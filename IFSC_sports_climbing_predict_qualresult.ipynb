{
 "cells": [
  {
   "cell_type": "code",
   "execution_count": 1,
   "id": "c32a69fd",
   "metadata": {},
   "outputs": [],
   "source": [
    "import pandas as pd\n",
    "import numpy as np\n",
    "import seaborn as sns\n",
    "import matplotlib.pyplot as plt"
   ]
  },
  {
   "cell_type": "code",
   "execution_count": 2,
   "id": "43af1e2d",
   "metadata": {},
   "outputs": [],
   "source": [
    "df=pd.read_csv('dataset/boulder_results.csv')"
   ]
  },
  {
   "cell_type": "code",
   "execution_count": 3,
   "id": "54b05fac",
   "metadata": {},
   "outputs": [
    {
     "data": {
      "text/html": [
       "<div>\n",
       "<style scoped>\n",
       "    .dataframe tbody tr th:only-of-type {\n",
       "        vertical-align: middle;\n",
       "    }\n",
       "\n",
       "    .dataframe tbody tr th {\n",
       "        vertical-align: top;\n",
       "    }\n",
       "\n",
       "    .dataframe thead th {\n",
       "        text-align: right;\n",
       "    }\n",
       "</style>\n",
       "<table border=\"1\" class=\"dataframe\">\n",
       "  <thead>\n",
       "    <tr style=\"text-align: right;\">\n",
       "      <th></th>\n",
       "      <th>Competition Title</th>\n",
       "      <th>Competition Date</th>\n",
       "      <th>FIRST</th>\n",
       "      <th>LAST</th>\n",
       "      <th>Nation</th>\n",
       "      <th>StartNr</th>\n",
       "      <th>Rank</th>\n",
       "      <th>Qualification</th>\n",
       "      <th>Qualification 1</th>\n",
       "      <th>Qualification 2</th>\n",
       "      <th>Semifinal</th>\n",
       "      <th>Final</th>\n",
       "      <th>Category</th>\n",
       "    </tr>\n",
       "  </thead>\n",
       "  <tbody>\n",
       "    <tr>\n",
       "      <th>0</th>\n",
       "      <td>European Youth Championships (B) - Brixen (ITA...</td>\n",
       "      <td>20  - 22 September 2019</td>\n",
       "      <td>Naile</td>\n",
       "      <td>MEIGNAN</td>\n",
       "      <td>FRA</td>\n",
       "      <td>15.0</td>\n",
       "      <td>1</td>\n",
       "      <td>6T7z99</td>\n",
       "      <td>NaN</td>\n",
       "      <td>NaN</td>\n",
       "      <td>3T4z55</td>\n",
       "      <td>3T4z89</td>\n",
       "      <td>boulder</td>\n",
       "    </tr>\n",
       "    <tr>\n",
       "      <th>1</th>\n",
       "      <td>European Youth Championships (B) - Brixen (ITA...</td>\n",
       "      <td>20  - 22 September 2019</td>\n",
       "      <td>Miriam</td>\n",
       "      <td>FOGU</td>\n",
       "      <td>ITA</td>\n",
       "      <td>27.0</td>\n",
       "      <td>2</td>\n",
       "      <td>4T8z814</td>\n",
       "      <td>NaN</td>\n",
       "      <td>NaN</td>\n",
       "      <td>3T4z55</td>\n",
       "      <td>2T4z27</td>\n",
       "      <td>boulder</td>\n",
       "    </tr>\n",
       "    <tr>\n",
       "      <th>2</th>\n",
       "      <td>European Youth Championships (B) - Brixen (ITA...</td>\n",
       "      <td>20  - 22 September 2019</td>\n",
       "      <td>Vanda</td>\n",
       "      <td>MICHALKOVA</td>\n",
       "      <td>SVK</td>\n",
       "      <td>48.0</td>\n",
       "      <td>3</td>\n",
       "      <td>6T7z89</td>\n",
       "      <td>NaN</td>\n",
       "      <td>NaN</td>\n",
       "      <td>3T3z43</td>\n",
       "      <td>2T3z23</td>\n",
       "      <td>boulder</td>\n",
       "    </tr>\n",
       "    <tr>\n",
       "      <th>3</th>\n",
       "      <td>European Youth Championships (B) - Brixen (ITA...</td>\n",
       "      <td>20  - 22 September 2019</td>\n",
       "      <td>Lola</td>\n",
       "      <td>SAUTIER</td>\n",
       "      <td>FRA</td>\n",
       "      <td>17.0</td>\n",
       "      <td>4</td>\n",
       "      <td>4T6z69</td>\n",
       "      <td>NaN</td>\n",
       "      <td>NaN</td>\n",
       "      <td>2T3z89</td>\n",
       "      <td>1T3z38</td>\n",
       "      <td>boulder</td>\n",
       "    </tr>\n",
       "    <tr>\n",
       "      <th>4</th>\n",
       "      <td>European Youth Championships (B) - Brixen (ITA...</td>\n",
       "      <td>20  - 22 September 2019</td>\n",
       "      <td>Polina</td>\n",
       "      <td>KULAGINA</td>\n",
       "      <td>RUS</td>\n",
       "      <td>39.0</td>\n",
       "      <td>5</td>\n",
       "      <td>4T6z611</td>\n",
       "      <td>NaN</td>\n",
       "      <td>NaN</td>\n",
       "      <td>3T4z76</td>\n",
       "      <td>1T3z47</td>\n",
       "      <td>boulder</td>\n",
       "    </tr>\n",
       "  </tbody>\n",
       "</table>\n",
       "</div>"
      ],
      "text/plain": [
       "                                   Competition Title         Competition Date  \\\n",
       "0  European Youth Championships (B) - Brixen (ITA...  20  - 22 September 2019   \n",
       "1  European Youth Championships (B) - Brixen (ITA...  20  - 22 September 2019   \n",
       "2  European Youth Championships (B) - Brixen (ITA...  20  - 22 September 2019   \n",
       "3  European Youth Championships (B) - Brixen (ITA...  20  - 22 September 2019   \n",
       "4  European Youth Championships (B) - Brixen (ITA...  20  - 22 September 2019   \n",
       "\n",
       "    FIRST        LAST Nation  StartNr  Rank Qualification Qualification 1  \\\n",
       "0   Naile     MEIGNAN    FRA     15.0     1        6T7z99             NaN   \n",
       "1  Miriam        FOGU    ITA     27.0     2       4T8z814             NaN   \n",
       "2   Vanda  MICHALKOVA    SVK     48.0     3        6T7z89             NaN   \n",
       "3    Lola     SAUTIER    FRA     17.0     4        4T6z69             NaN   \n",
       "4  Polina    KULAGINA    RUS     39.0     5       4T6z611             NaN   \n",
       "\n",
       "  Qualification 2 Semifinal   Final Category  \n",
       "0             NaN    3T4z55  3T4z89  boulder  \n",
       "1             NaN    3T4z55  2T4z27  boulder  \n",
       "2             NaN    3T3z43  2T3z23  boulder  \n",
       "3             NaN    2T3z89  1T3z38  boulder  \n",
       "4             NaN    3T4z76  1T3z47  boulder  "
      ]
     },
     "execution_count": 3,
     "metadata": {},
     "output_type": "execute_result"
    }
   ],
   "source": [
    "df.head()"
   ]
  },
  {
   "cell_type": "markdown",
   "id": "74e805a3",
   "metadata": {},
   "source": [
    "# Project Goal: Make a model to predict how good a player should perform to pass the Qualification"
   ]
  },
  {
   "cell_type": "markdown",
   "id": "2859ec6f",
   "metadata": {},
   "source": [
    "### How to evaluate the score\n",
    "Bouldering is scored using a combination of tops and zones to determine rank. Athletes each get four minutes to reach the top of four boulders (three in the final), with the number of attempts influencing their final score. The aim is to top the boulder in as few attempts as possible.\n",
    "\n",
    "Results are in the format Tz__. T corresponds to top, which means the climber reached the top hold and finished the problem. z corresponds to zone, which means the climber reached the zone hold and partially finished the problem. The numbers before each correspond to how many tops or zones were reached, and numbers after signify how many attempts were taken.\n",
    "\n",
    "Example:\n",
    "2T4z58 means that the climber had 2 tops, 4 zones, and took 5 total attempts to get the tops, and 8 total attempts to reach the zones.\n",
    "\n",
    "Qualification: Sometimes there are multiple groups for qualifications, and when that is the case the results will be split to indicate which qualification group the climber was in."
   ]
  },
  {
   "cell_type": "markdown",
   "id": "58c6b9bf",
   "metadata": {},
   "source": [
    "### Plan ahead\n",
    "#### Data Acquisition\n",
    "Use a dataset in Kaggle. (Source: IFSC Sport Climbing Competition Results)\n",
    "#### Feature Engineering\n",
    "Narrow down our interst to adult competition only.\n",
    "\n",
    "Merge Qualification, Qual1, and Qual2 columns together for the reason mentioned above.\n",
    "\n",
    "Re-frame the string score data to numeric variables and check the correlation to the passing Qual.\n",
    "\n",
    "#### Train / Test models\n",
    "Perform various classification methods: Logistic Regression, Tree-based mehtod, and Support Vector Classifier.\n",
    "\n",
    "#### Evalutation of the model\n",
    "\n",
    "Consider accuracy and f1 score: Generally good score to evaluate the model.\n",
    "\n",
    "Recall/Precision: Missing pass/fail Qual is not critical"
   ]
  },
  {
   "cell_type": "markdown",
   "id": "7adf074a",
   "metadata": {},
   "source": [
    "## Data Cleaning"
   ]
  },
  {
   "cell_type": "code",
   "execution_count": 4,
   "id": "937cadba",
   "metadata": {},
   "outputs": [
    {
     "name": "stdout",
     "output_type": "stream",
     "text": [
      "4309\n",
      "2155\n",
      "0\n"
     ]
    }
   ],
   "source": [
    "# Merge Qualification scores in one column\n",
    "# print the number of null values and see if it decreases to 0\n",
    "print(df['Qualification'].isnull().sum())\n",
    "df['Qualification'].fillna(df['Qualification 1'], inplace=True)\n",
    "print(df['Qualification'].isnull().sum())\n",
    "df['Qualification'].fillna(df['Qualification 2'], inplace=True)\n",
    "print(df['Qualification'].isnull().sum())"
   ]
  },
  {
   "cell_type": "code",
   "execution_count": 5,
   "id": "32083413",
   "metadata": {},
   "outputs": [],
   "source": [
    "# Remove Qual 1 Qual 2 Columns\n",
    "if df['Qualification'].isnull().sum()==0:\n",
    "    df = df.drop(['Qualification 1','Qualification 2'], axis=1)"
   ]
  },
  {
   "cell_type": "code",
   "execution_count": 6,
   "id": "2ecab369",
   "metadata": {},
   "outputs": [
    {
     "name": "stdout",
     "output_type": "stream",
     "text": [
      "<class 'pandas.core.frame.DataFrame'>\n",
      "Int64Index: 3197 entries, 282 to 6468\n",
      "Data columns (total 11 columns):\n",
      " #   Column             Non-Null Count  Dtype  \n",
      "---  ------             --------------  -----  \n",
      " 0   Competition Title  3197 non-null   object \n",
      " 1   Competition Date   3197 non-null   object \n",
      " 2   FIRST              3197 non-null   object \n",
      " 3   LAST               3197 non-null   object \n",
      " 4   Nation             3197 non-null   object \n",
      " 5   StartNr            3197 non-null   float64\n",
      " 6   Rank               3197 non-null   int64  \n",
      " 7   Qualification      3197 non-null   object \n",
      " 8   Semifinal          800 non-null    object \n",
      " 9   Final              260 non-null    object \n",
      " 10  Category           3197 non-null   object \n",
      "dtypes: float64(1), int64(1), object(9)\n",
      "memory usage: 299.7+ KB\n"
     ]
    }
   ],
   "source": [
    "# Get rid of the Youth competition\n",
    "df = df[~df['Competition Title'].str.contains('Youth')]\n",
    "df.info()"
   ]
  },
  {
   "cell_type": "code",
   "execution_count": 7,
   "id": "14b092be",
   "metadata": {},
   "outputs": [
    {
     "data": {
      "text/plain": [
       "array(['ldering'], dtype=object)"
      ]
     },
     "execution_count": 7,
     "metadata": {},
     "output_type": "execute_result"
    }
   ],
   "source": [
    "df['Category'].unique()"
   ]
  },
  {
   "cell_type": "code",
   "execution_count": 8,
   "id": "3bdd8293",
   "metadata": {},
   "outputs": [],
   "source": [
    "df.drop('Category', axis=1, inplace=True)"
   ]
  },
  {
   "cell_type": "code",
   "execution_count": 9,
   "id": "2769be1c",
   "metadata": {},
   "outputs": [
    {
     "data": {
      "text/html": [
       "<div>\n",
       "<style scoped>\n",
       "    .dataframe tbody tr th:only-of-type {\n",
       "        vertical-align: middle;\n",
       "    }\n",
       "\n",
       "    .dataframe tbody tr th {\n",
       "        vertical-align: top;\n",
       "    }\n",
       "\n",
       "    .dataframe thead th {\n",
       "        text-align: right;\n",
       "    }\n",
       "</style>\n",
       "<table border=\"1\" class=\"dataframe\">\n",
       "  <thead>\n",
       "    <tr style=\"text-align: right;\">\n",
       "      <th></th>\n",
       "      <th>Competition Title</th>\n",
       "      <th>Competition Date</th>\n",
       "      <th>FIRST</th>\n",
       "      <th>LAST</th>\n",
       "      <th>Nation</th>\n",
       "      <th>StartNr</th>\n",
       "      <th>Rank</th>\n",
       "      <th>Qualification</th>\n",
       "      <th>Semifinal</th>\n",
       "      <th>Final</th>\n",
       "    </tr>\n",
       "  </thead>\n",
       "  <tbody>\n",
       "    <tr>\n",
       "      <th>282</th>\n",
       "      <td>European Championship (B) - Zakopane (POL) 2019</td>\n",
       "      <td>5  - 7 September 2019</td>\n",
       "      <td>Urska</td>\n",
       "      <td>REPUSIC</td>\n",
       "      <td>SLO</td>\n",
       "      <td>63.0</td>\n",
       "      <td>1</td>\n",
       "      <td>3T4z68</td>\n",
       "      <td>3T4z67</td>\n",
       "      <td>3T4z45</td>\n",
       "    </tr>\n",
       "    <tr>\n",
       "      <th>283</th>\n",
       "      <td>European Championship (B) - Zakopane (POL) 2019</td>\n",
       "      <td>5  - 7 September 2019</td>\n",
       "      <td>Vita</td>\n",
       "      <td>LUKAN</td>\n",
       "      <td>SLO</td>\n",
       "      <td>61.0</td>\n",
       "      <td>2</td>\n",
       "      <td>5T5z118</td>\n",
       "      <td>3T4z57</td>\n",
       "      <td>3T4z68</td>\n",
       "    </tr>\n",
       "    <tr>\n",
       "      <th>284</th>\n",
       "      <td>European Championship (B) - Zakopane (POL) 2019</td>\n",
       "      <td>5  - 7 September 2019</td>\n",
       "      <td>Irina</td>\n",
       "      <td>KUZMENKO</td>\n",
       "      <td>RUS</td>\n",
       "      <td>68.0</td>\n",
       "      <td>3</td>\n",
       "      <td>5T5z1513</td>\n",
       "      <td>3T4z510</td>\n",
       "      <td>3T4z817</td>\n",
       "    </tr>\n",
       "    <tr>\n",
       "      <th>285</th>\n",
       "      <td>European Championship (B) - Zakopane (POL) 2019</td>\n",
       "      <td>5  - 7 September 2019</td>\n",
       "      <td>Alma</td>\n",
       "      <td>BESTVATER</td>\n",
       "      <td>GER</td>\n",
       "      <td>67.0</td>\n",
       "      <td>4</td>\n",
       "      <td>4T4z84</td>\n",
       "      <td>3T4z46</td>\n",
       "      <td>3T3z33</td>\n",
       "    </tr>\n",
       "    <tr>\n",
       "      <th>286</th>\n",
       "      <td>European Championship (B) - Zakopane (POL) 2019</td>\n",
       "      <td>5  - 7 September 2019</td>\n",
       "      <td>Yael</td>\n",
       "      <td>TAUB</td>\n",
       "      <td>ISR</td>\n",
       "      <td>90.0</td>\n",
       "      <td>5</td>\n",
       "      <td>2T5z410</td>\n",
       "      <td>3T4z56</td>\n",
       "      <td>2T3z46</td>\n",
       "    </tr>\n",
       "  </tbody>\n",
       "</table>\n",
       "</div>"
      ],
      "text/plain": [
       "                                   Competition Title       Competition Date  \\\n",
       "282  European Championship (B) - Zakopane (POL) 2019  5  - 7 September 2019   \n",
       "283  European Championship (B) - Zakopane (POL) 2019  5  - 7 September 2019   \n",
       "284  European Championship (B) - Zakopane (POL) 2019  5  - 7 September 2019   \n",
       "285  European Championship (B) - Zakopane (POL) 2019  5  - 7 September 2019   \n",
       "286  European Championship (B) - Zakopane (POL) 2019  5  - 7 September 2019   \n",
       "\n",
       "     FIRST       LAST Nation  StartNr  Rank Qualification Semifinal    Final  \n",
       "282  Urska    REPUSIC    SLO     63.0     1        3T4z68    3T4z67   3T4z45  \n",
       "283   Vita      LUKAN    SLO     61.0     2       5T5z118    3T4z57   3T4z68  \n",
       "284  Irina   KUZMENKO    RUS     68.0     3      5T5z1513   3T4z510  3T4z817  \n",
       "285   Alma  BESTVATER    GER     67.0     4        4T4z84    3T4z46   3T3z33  \n",
       "286   Yael       TAUB    ISR     90.0     5       2T5z410    3T4z56   2T3z46  "
      ]
     },
     "execution_count": 9,
     "metadata": {},
     "output_type": "execute_result"
    }
   ],
   "source": [
    "df.head()"
   ]
  },
  {
   "cell_type": "markdown",
   "id": "5b62cf12",
   "metadata": {},
   "source": [
    "## Feature Engineering part 1: Convert string scores to numerical values\n",
    "1. Quantify the score from string to integers (# of tops, # of zones, # of top attempts, # of zone attempts)\n",
    "\n",
    "2. Make another columns to check if the player pass the Qual. If the player has semifinal score, consider the one passed the qualification.\n",
    "\n",
    "3. Check the correlation between each score (top, zone, top attempt, and zone attpemt) to passing Qual. Check the distribution of each number as well."
   ]
  },
  {
   "cell_type": "code",
   "execution_count": 10,
   "id": "9537e564",
   "metadata": {},
   "outputs": [],
   "source": [
    "def score(row, rnd): # rnd: string 'Qualification', 'Semifinal', Final\n",
    "    temp = row[rnd].split('T')\n",
    "    top = int(temp[0])\n",
    "    temp = temp[1].split('z')\n",
    "    zone = int(temp[0])\n",
    "    \n",
    "    # t_attempt >= top\n",
    "    # z_attempt >= zone\n",
    "    t_attempt = temp[1][0]  # Initial condition: first number after \"z\"\n",
    "    i=1\n",
    "    while int(t_attempt)<top:\n",
    "        t_attempt=t_attempt+temp[1][i]\n",
    "        i+=1\n",
    "    \n",
    "    z_attempt=temp[1][len(t_attempt):]\n",
    "    if len(z_attempt)>2: # Attempts more than 100 is physically impossible. (you only have 4 mins)\n",
    "        t_attempt=t_attempt+temp[1][len(t_attempt)]\n",
    "        \n",
    "    z_attempt = temp[1][len(t_attempt):]\n",
    "    \n",
    "    \n",
    "    t_attempt=int(t_attempt)\n",
    "    z_attempt=int(z_attempt)\n",
    "    \n",
    "    return [top, zone, t_attempt, z_attempt]"
   ]
  },
  {
   "cell_type": "code",
   "execution_count": 11,
   "id": "0e90eceb",
   "metadata": {},
   "outputs": [
    {
     "data": {
      "text/html": [
       "<div>\n",
       "<style scoped>\n",
       "    .dataframe tbody tr th:only-of-type {\n",
       "        vertical-align: middle;\n",
       "    }\n",
       "\n",
       "    .dataframe tbody tr th {\n",
       "        vertical-align: top;\n",
       "    }\n",
       "\n",
       "    .dataframe thead th {\n",
       "        text-align: right;\n",
       "    }\n",
       "</style>\n",
       "<table border=\"1\" class=\"dataframe\">\n",
       "  <thead>\n",
       "    <tr style=\"text-align: right;\">\n",
       "      <th></th>\n",
       "      <th>Competition Title</th>\n",
       "      <th>Competition Date</th>\n",
       "      <th>FIRST</th>\n",
       "      <th>LAST</th>\n",
       "      <th>Nation</th>\n",
       "      <th>StartNr</th>\n",
       "      <th>Rank</th>\n",
       "      <th>Qualification</th>\n",
       "      <th>Semifinal</th>\n",
       "      <th>Final</th>\n",
       "      <th>Qual top</th>\n",
       "      <th>Qual zone</th>\n",
       "      <th>Qual top attempts</th>\n",
       "      <th>Qual zone attempts</th>\n",
       "      <th>Pass Qual</th>\n",
       "      <th>Qual result</th>\n",
       "    </tr>\n",
       "  </thead>\n",
       "  <tbody>\n",
       "    <tr>\n",
       "      <th>282</th>\n",
       "      <td>European Championship (B) - Zakopane (POL) 2019</td>\n",
       "      <td>5  - 7 September 2019</td>\n",
       "      <td>Urska</td>\n",
       "      <td>REPUSIC</td>\n",
       "      <td>SLO</td>\n",
       "      <td>63.0</td>\n",
       "      <td>1</td>\n",
       "      <td>3T4z68</td>\n",
       "      <td>3T4z67</td>\n",
       "      <td>3T4z45</td>\n",
       "      <td>3</td>\n",
       "      <td>4</td>\n",
       "      <td>6</td>\n",
       "      <td>8</td>\n",
       "      <td>True</td>\n",
       "      <td>Pass</td>\n",
       "    </tr>\n",
       "    <tr>\n",
       "      <th>283</th>\n",
       "      <td>European Championship (B) - Zakopane (POL) 2019</td>\n",
       "      <td>5  - 7 September 2019</td>\n",
       "      <td>Vita</td>\n",
       "      <td>LUKAN</td>\n",
       "      <td>SLO</td>\n",
       "      <td>61.0</td>\n",
       "      <td>2</td>\n",
       "      <td>5T5z118</td>\n",
       "      <td>3T4z57</td>\n",
       "      <td>3T4z68</td>\n",
       "      <td>5</td>\n",
       "      <td>5</td>\n",
       "      <td>11</td>\n",
       "      <td>8</td>\n",
       "      <td>True</td>\n",
       "      <td>Pass</td>\n",
       "    </tr>\n",
       "    <tr>\n",
       "      <th>284</th>\n",
       "      <td>European Championship (B) - Zakopane (POL) 2019</td>\n",
       "      <td>5  - 7 September 2019</td>\n",
       "      <td>Irina</td>\n",
       "      <td>KUZMENKO</td>\n",
       "      <td>RUS</td>\n",
       "      <td>68.0</td>\n",
       "      <td>3</td>\n",
       "      <td>5T5z1513</td>\n",
       "      <td>3T4z510</td>\n",
       "      <td>3T4z817</td>\n",
       "      <td>5</td>\n",
       "      <td>5</td>\n",
       "      <td>15</td>\n",
       "      <td>13</td>\n",
       "      <td>True</td>\n",
       "      <td>Pass</td>\n",
       "    </tr>\n",
       "    <tr>\n",
       "      <th>285</th>\n",
       "      <td>European Championship (B) - Zakopane (POL) 2019</td>\n",
       "      <td>5  - 7 September 2019</td>\n",
       "      <td>Alma</td>\n",
       "      <td>BESTVATER</td>\n",
       "      <td>GER</td>\n",
       "      <td>67.0</td>\n",
       "      <td>4</td>\n",
       "      <td>4T4z84</td>\n",
       "      <td>3T4z46</td>\n",
       "      <td>3T3z33</td>\n",
       "      <td>4</td>\n",
       "      <td>4</td>\n",
       "      <td>8</td>\n",
       "      <td>4</td>\n",
       "      <td>True</td>\n",
       "      <td>Pass</td>\n",
       "    </tr>\n",
       "    <tr>\n",
       "      <th>286</th>\n",
       "      <td>European Championship (B) - Zakopane (POL) 2019</td>\n",
       "      <td>5  - 7 September 2019</td>\n",
       "      <td>Yael</td>\n",
       "      <td>TAUB</td>\n",
       "      <td>ISR</td>\n",
       "      <td>90.0</td>\n",
       "      <td>5</td>\n",
       "      <td>2T5z410</td>\n",
       "      <td>3T4z56</td>\n",
       "      <td>2T3z46</td>\n",
       "      <td>2</td>\n",
       "      <td>5</td>\n",
       "      <td>4</td>\n",
       "      <td>10</td>\n",
       "      <td>True</td>\n",
       "      <td>Pass</td>\n",
       "    </tr>\n",
       "  </tbody>\n",
       "</table>\n",
       "</div>"
      ],
      "text/plain": [
       "                                   Competition Title       Competition Date  \\\n",
       "282  European Championship (B) - Zakopane (POL) 2019  5  - 7 September 2019   \n",
       "283  European Championship (B) - Zakopane (POL) 2019  5  - 7 September 2019   \n",
       "284  European Championship (B) - Zakopane (POL) 2019  5  - 7 September 2019   \n",
       "285  European Championship (B) - Zakopane (POL) 2019  5  - 7 September 2019   \n",
       "286  European Championship (B) - Zakopane (POL) 2019  5  - 7 September 2019   \n",
       "\n",
       "     FIRST       LAST Nation  StartNr  Rank Qualification Semifinal    Final  \\\n",
       "282  Urska    REPUSIC    SLO     63.0     1        3T4z68    3T4z67   3T4z45   \n",
       "283   Vita      LUKAN    SLO     61.0     2       5T5z118    3T4z57   3T4z68   \n",
       "284  Irina   KUZMENKO    RUS     68.0     3      5T5z1513   3T4z510  3T4z817   \n",
       "285   Alma  BESTVATER    GER     67.0     4        4T4z84    3T4z46   3T3z33   \n",
       "286   Yael       TAUB    ISR     90.0     5       2T5z410    3T4z56   2T3z46   \n",
       "\n",
       "     Qual top  Qual zone  Qual top attempts  Qual zone attempts  Pass Qual  \\\n",
       "282         3          4                  6                   8       True   \n",
       "283         5          5                 11                   8       True   \n",
       "284         5          5                 15                  13       True   \n",
       "285         4          4                  8                   4       True   \n",
       "286         2          5                  4                  10       True   \n",
       "\n",
       "    Qual result  \n",
       "282        Pass  \n",
       "283        Pass  \n",
       "284        Pass  \n",
       "285        Pass  \n",
       "286        Pass  "
      ]
     },
     "execution_count": 11,
     "metadata": {},
     "output_type": "execute_result"
    }
   ],
   "source": [
    "columns_to_add = ['Qual top', 'Qual zone', 'Qual top attempts', 'Qual zone attempts']\n",
    "for idx, col in enumerate(columns_to_add):\n",
    "    df[col] = df.apply(lambda row,rnd='Qualification': score(row,rnd)[idx], axis=1)\n",
    "\n",
    "# Having Semifinal score -> Passed Qualification!\n",
    "\n",
    "df['Pass Qual']=df['Semifinal'].notnull()\n",
    "df['Qual result']=df['Pass Qual'].map({True:'Pass', False: 'Fail'})\n",
    "df.head()"
   ]
  },
  {
   "cell_type": "markdown",
   "id": "ad6017e3",
   "metadata": {},
   "source": [
    "#### Check if the scores are correctly generated\n",
    "Attempts should be >= top or zone!"
   ]
  },
  {
   "cell_type": "code",
   "execution_count": 12,
   "id": "a6ee2a41",
   "metadata": {},
   "outputs": [
    {
     "data": {
      "text/plain": [
       "0"
      ]
     },
     "execution_count": 12,
     "metadata": {},
     "output_type": "execute_result"
    }
   ],
   "source": [
    "len(df[df['Qual zone attempts']<df['Qual zone']])"
   ]
  },
  {
   "cell_type": "code",
   "execution_count": 13,
   "id": "939ce053",
   "metadata": {},
   "outputs": [
    {
     "data": {
      "text/plain": [
       "0"
      ]
     },
     "execution_count": 13,
     "metadata": {},
     "output_type": "execute_result"
    }
   ],
   "source": [
    "len(df[df['Qual top attempts']<df['Qual top']])"
   ]
  },
  {
   "cell_type": "markdown",
   "id": "557ce777",
   "metadata": {},
   "source": [
    "Both are zero. The scores are nicely converted."
   ]
  },
  {
   "cell_type": "markdown",
   "id": "089d3ffb",
   "metadata": {},
   "source": [
    "## Data Engineering part 2: Check the score vs passing qual"
   ]
  },
  {
   "cell_type": "code",
   "execution_count": 14,
   "id": "f35a3050",
   "metadata": {
    "scrolled": true
   },
   "outputs": [],
   "source": [
    "df_qual = df[['Qual top','Qual zone','Qual top attempts','Qual zone attempts','Pass Qual','Qual result']]"
   ]
  },
  {
   "cell_type": "code",
   "execution_count": 15,
   "id": "0701c20d",
   "metadata": {},
   "outputs": [
    {
     "data": {
      "text/plain": [
       "3197"
      ]
     },
     "execution_count": 15,
     "metadata": {},
     "output_type": "execute_result"
    }
   ],
   "source": [
    "df_qual.corr()['Pass Qual']\n",
    "len(df_qual['Pass Qual'])"
   ]
  },
  {
   "cell_type": "markdown",
   "id": "01d394c4",
   "metadata": {},
   "source": [
    "As expected Qual top shows the strongest correation."
   ]
  },
  {
   "cell_type": "code",
   "execution_count": 16,
   "id": "fb2bda09",
   "metadata": {},
   "outputs": [],
   "source": [
    "df_qual = df_qual.drop('Pass Qual',axis=1)"
   ]
  },
  {
   "cell_type": "code",
   "execution_count": 17,
   "id": "b85e02bf",
   "metadata": {},
   "outputs": [
    {
     "data": {
      "text/plain": [
       "<AxesSubplot:xlabel='Qual top', ylabel='count'>"
      ]
     },
     "execution_count": 17,
     "metadata": {},
     "output_type": "execute_result"
    },
    {
     "data": {
      "image/png": "[encoded data removed]",
      "text/plain": [
       "<Figure size 432x288 with 1 Axes>"
      ]
     },
     "metadata": {
      "needs_background": "light"
     },
     "output_type": "display_data"
    }
   ],
   "source": [
    "sns.countplot(x=df_qual['Qual top'])"
   ]
  },
  {
   "cell_type": "markdown",
   "id": "34fcb60a",
   "metadata": {},
   "source": [
    "### Visualize how passing qual is correlated wity each score value "
   ]
  },
  {
   "cell_type": "markdown",
   "id": "24f4d3de",
   "metadata": {},
   "source": [
    "Count plot and box plot of each columns with hue='Pass Qual'"
   ]
  },
  {
   "cell_type": "code",
   "execution_count": 18,
   "id": "c37f536b",
   "metadata": {},
   "outputs": [
    {
     "data": {
      "text/plain": [
       "<AxesSubplot:xlabel='Qual top', ylabel='count'>"
      ]
     },
     "execution_count": 18,
     "metadata": {},
     "output_type": "execute_result"
    },
    {
     "data": {
      "image/png": "[encoded data removed]",
      "text/plain": [
       "<Figure size 432x288 with 1 Axes>"
      ]
     },
     "metadata": {
      "needs_background": "light"
     },
     "output_type": "display_data"
    }
   ],
   "source": [
    "sns.countplot(x=df_qual['Qual top'], hue=df_qual['Qual result'])"
   ]
  },
  {
   "cell_type": "code",
   "execution_count": 19,
   "id": "a077aea3",
   "metadata": {},
   "outputs": [
    {
     "data": {
      "text/plain": [
       "<AxesSubplot:xlabel='Qual result', ylabel='Qual top'>"
      ]
     },
     "execution_count": 19,
     "metadata": {},
     "output_type": "execute_result"
    },
    {
     "data": {
      "image/png": "[encoded data removed]",
      "text/plain": [
       "<Figure size 432x288 with 1 Axes>"
      ]
     },
     "metadata": {
      "needs_background": "light"
     },
     "output_type": "display_data"
    }
   ],
   "source": [
    "sns.boxplot(x=df_qual['Qual result'], y=df_qual['Qual top'])"
   ]
  },
  {
   "cell_type": "markdown",
   "id": "7869d623",
   "metadata": {},
   "source": [
    "### Interpretation Top vs Passing Qual: Low top score is strong indicator of Qual Failure \n",
    "There are some exceptions (some players passed qualification with 0 or 1 top), but higher top score leads a player to the next round.\n",
    "This result is making sense.\n",
    "\n",
    "## Qual zone vs Passing Qual"
   ]
  },
  {
   "cell_type": "code",
   "execution_count": 20,
   "id": "a266900a",
   "metadata": {},
   "outputs": [
    {
     "data": {
      "text/plain": [
       "<AxesSubplot:xlabel='Qual zone', ylabel='count'>"
      ]
     },
     "execution_count": 20,
     "metadata": {},
     "output_type": "execute_result"
    },
    {
     "data": {
      "image/png": "[encoded data removed]",
      "text/plain": [
       "<Figure size 432x288 with 1 Axes>"
      ]
     },
     "metadata": {
      "needs_background": "light"
     },
     "output_type": "display_data"
    }
   ],
   "source": [
    "sns.countplot(x=df_qual['Qual zone'], hue=df_qual['Qual result'])"
   ]
  },
  {
   "cell_type": "code",
   "execution_count": 21,
   "id": "092c795a",
   "metadata": {},
   "outputs": [
    {
     "data": {
      "text/plain": [
       "<AxesSubplot:xlabel='Qual result', ylabel='Qual zone'>"
      ]
     },
     "execution_count": 21,
     "metadata": {},
     "output_type": "execute_result"
    },
    {
     "data": {
      "image/png": "[encoded data removed]",
      "text/plain": [
       "<Figure size 432x288 with 1 Axes>"
      ]
     },
     "metadata": {
      "needs_background": "light"
     },
     "output_type": "display_data"
    }
   ],
   "source": [
    "sns.boxplot(x=df_qual['Qual result'],y=df_qual['Qual zone'])"
   ]
  },
  {
   "cell_type": "code",
   "execution_count": 22,
   "id": "4205ebe8",
   "metadata": {},
   "outputs": [
    {
     "data": {
      "text/plain": [
       "Text(0.5, 1.0, '5 Zone')"
      ]
     },
     "execution_count": 22,
     "metadata": {},
     "output_type": "execute_result"
    },
    {
     "data": {
      "image/png": "[encoded data removed]",
      "text/plain": [
       "<Figure size 432x288 with 1 Axes>"
      ]
     },
     "metadata": {
      "needs_background": "light"
     },
     "output_type": "display_data"
    }
   ],
   "source": [
    "# Distribution of top who scored 5zone!\n",
    "sns.countplot(x=df_qual[df_qual['Qual zone']==5]['Qual top'])\n",
    "plt.title('5 Zone')"
   ]
  },
  {
   "cell_type": "code",
   "execution_count": 23,
   "id": "218582eb",
   "metadata": {},
   "outputs": [
    {
     "data": {
      "text/plain": [
       "Text(0.5, 1.0, '4 Zone')"
      ]
     },
     "execution_count": 23,
     "metadata": {},
     "output_type": "execute_result"
    },
    {
     "data": {
      "image/png": "[encoded data removed]",
      "text/plain": [
       "<Figure size 432x288 with 1 Axes>"
      ]
     },
     "metadata": {
      "needs_background": "light"
     },
     "output_type": "display_data"
    }
   ],
   "source": [
    "# Distribution of top who scored 4zone!\n",
    "sns.countplot(x=df_qual[df_qual['Qual zone']==4]['Qual top'])\n",
    "plt.title('4 Zone')"
   ]
  },
  {
   "cell_type": "code",
   "execution_count": 24,
   "id": "0484130b",
   "metadata": {},
   "outputs": [
    {
     "data": {
      "text/plain": [
       "Qual top              1.000000\n",
       "Qual zone             0.765812\n",
       "Qual top attempts     0.811902\n",
       "Qual zone attempts    0.239009\n",
       "Name: Qual top, dtype: float64"
      ]
     },
     "execution_count": 24,
     "metadata": {},
     "output_type": "execute_result"
    }
   ],
   "source": [
    "df_qual.corr()['Qual top']"
   ]
  },
  {
   "cell_type": "markdown",
   "id": "b06becb9",
   "metadata": {},
   "source": [
    "### Interpretation Zone vs Passing Qual: Zone can be even stronger feature to predict who passes the Qualification than the top!!!\n",
    "This does not make sense at the first glance becuase the top is the strongest score. However, if you top the problem, then zone is secured (1T0z is impossible). Therefore zone can be correlated with top. (and, yes they are! corr = 0.7658)\n",
    "\n",
    "## Top attempts vs passing Qual"
   ]
  },
  {
   "cell_type": "code",
   "execution_count": 25,
   "id": "2e15a7dd",
   "metadata": {},
   "outputs": [
    {
     "data": {
      "text/plain": [
       "<AxesSubplot:xlabel='Qual top attempts', ylabel='count'>"
      ]
     },
     "execution_count": 25,
     "metadata": {},
     "output_type": "execute_result"
    },
    {
     "data": {
      "image/png": "[encoded data removed]",
      "text/plain": [
       "<Figure size 432x288 with 1 Axes>"
      ]
     },
     "metadata": {
      "needs_background": "light"
     },
     "output_type": "display_data"
    }
   ],
   "source": [
    "sns.countplot(x=df_qual['Qual top attempts'], hue=df_qual['Qual result'])"
   ]
  },
  {
   "cell_type": "code",
   "execution_count": 26,
   "id": "d24eb8ff",
   "metadata": {},
   "outputs": [
    {
     "data": {
      "text/plain": [
       "<AxesSubplot:xlabel='Qual result', ylabel='Qual top attempts'>"
      ]
     },
     "execution_count": 26,
     "metadata": {},
     "output_type": "execute_result"
    },
    {
     "data": {
      "image/png": "[encoded data removed]",
      "text/plain": [
       "<Figure size 432x288 with 1 Axes>"
      ]
     },
     "metadata": {
      "needs_background": "light"
     },
     "output_type": "display_data"
    }
   ],
   "source": [
    "sns.boxplot(x=df_qual['Qual result'],y=df_qual['Qual top attempts'])"
   ]
  },
  {
   "cell_type": "markdown",
   "id": "007a3ac9",
   "metadata": {},
   "source": [
    "There are a lot of players who could not attempt to top a single problem. These players secured no top, so let's look at their zone scores.\n",
    "\n",
    "Those who passed Qual mostly attempt 5~8 to top the problems. This looks reasonable because of reasons.\n",
    "\n",
    "1. Lower limit of top attempt is top score. If you flashed (top at the first attempt) 5 problems in a row (best case scenario), your attempt will be 5.\n",
    "\n",
    "2. Players who passed the Qual mostly scored 4T or 5T. Top attempts a little bit higher than this number means they mostly flashed their problem."
   ]
  },
  {
   "cell_type": "code",
   "execution_count": 27,
   "id": "ef05e74c",
   "metadata": {},
   "outputs": [
    {
     "data": {
      "text/plain": [
       "Text(0.5, 1.0, '0 top attempt')"
      ]
     },
     "execution_count": 27,
     "metadata": {},
     "output_type": "execute_result"
    },
    {
     "data": {
      "image/png": "[encoded data removed]",
      "text/plain": [
       "<Figure size 432x288 with 1 Axes>"
      ]
     },
     "metadata": {
      "needs_background": "light"
     },
     "output_type": "display_data"
    }
   ],
   "source": [
    "# Distribution of top who scored 0 top attempt!\n",
    "sns.countplot(x=df_qual[df_qual['Qual top attempts']==0]['Qual zone'])\n",
    "plt.title('0 top attempt')"
   ]
  },
  {
   "cell_type": "markdown",
   "id": "0b43c1a9",
   "metadata": {},
   "source": [
    "### Interpretation of top attempt vs Passing Qual: Highly conditional!\n",
    "Those who passed the qual mostly attempts 4~8 times to top the problem, and it makes sense as previously explained.\n",
    "\n",
    "However, when it comes to predict those who failed to qualify, lower top attempts become a good indicator.\n",
    "\n",
    "\n",
    "## Zone attempt vs Passign Qualification\n",
    "I expect this zone attempt has similar trend as top attempts with weaker correlation to the passing qual."
   ]
  },
  {
   "cell_type": "code",
   "execution_count": 28,
   "id": "ff7edfe8",
   "metadata": {},
   "outputs": [
    {
     "data": {
      "image/png": "[encoded data removed]",
      "text/plain": [
       "<Figure size 432x288 with 1 Axes>"
      ]
     },
     "metadata": {
      "needs_background": "light"
     },
     "output_type": "display_data"
    }
   ],
   "source": [
    "sns.countplot(x=df_qual['Qual zone attempts'], hue=df_qual['Qual result'])\n",
    "plt.tick_params(axis='x', rotation=90)"
   ]
  },
  {
   "cell_type": "code",
   "execution_count": 29,
   "id": "607133a6",
   "metadata": {},
   "outputs": [
    {
     "data": {
      "text/plain": [
       "<AxesSubplot:xlabel='Qual result', ylabel='Qual zone attempts'>"
      ]
     },
     "execution_count": 29,
     "metadata": {},
     "output_type": "execute_result"
    },
    {
     "data": {
      "image/png": "[encoded data removed]",
      "text/plain": [
       "<Figure size 432x288 with 1 Axes>"
      ]
     },
     "metadata": {
      "needs_background": "light"
     },
     "output_type": "display_data"
    }
   ],
   "source": [
    "sns.boxplot(x=df_qual['Qual result'],y=df_qual['Qual zone attempts'])"
   ]
  },
  {
   "cell_type": "markdown",
   "id": "dafa9edb",
   "metadata": {},
   "source": [
    "### Conclusion on Feature Engineering\n",
    "The overall features are making sense: The top score shows strongest correlation to the result and zone attempts score is the weakest. However, I have two concerns about the data that might cause bad performance of models.\n",
    "\n",
    "1. Imbalanced data: There are a bit more Failing qual entries (3200) than the passing qual entries (800). Since we have a good number of Passing Qual entries so I would not expect it to impact badly on the model performance\n",
    "\n",
    "2. Outliers in the Passing Qual. In Passing Qual category, all four boxplots shows outliers (even from the strongest feature: Top score)"
   ]
  },
  {
   "cell_type": "markdown",
   "id": "08ecfd99",
   "metadata": {},
   "source": [
    "# Model Selection\n",
    "\n",
    "Throughout the feature engineering, I figured out the top and zone socres are somewhat linearly correlated to passing qual. My intuition says linear logistic regression would work fine. Let's make logistic, tree-based, and SVM based classification models and evalueate them.\n",
    "\n",
    "## Logistic Regression"
   ]
  },
  {
   "cell_type": "code",
   "execution_count": 30,
   "id": "ffa80cf5",
   "metadata": {},
   "outputs": [],
   "source": [
    "from sklearn.model_selection import train_test_split\n",
    "X_qual = df_qual.drop('Qual result',axis=1)\n",
    "y_qual = df_qual['Qual result']"
   ]
  },
  {
   "cell_type": "code",
   "execution_count": 31,
   "id": "fce6f59d",
   "metadata": {},
   "outputs": [],
   "source": [
    "X_train, X_test, y_train, y_test = train_test_split(X_qual, y_qual, test_size=0.1)"
   ]
  },
  {
   "cell_type": "markdown",
   "id": "1ce9fd50",
   "metadata": {},
   "source": [
    "#### Import Libraries"
   ]
  },
  {
   "cell_type": "code",
   "execution_count": 32,
   "id": "46064557",
   "metadata": {},
   "outputs": [],
   "source": [
    "from sklearn.preprocessing import StandardScaler\n",
    "from sklearn.linear_model import LogisticRegression\n",
    "from sklearn.model_selection import GridSearchCV\n",
    "from sklearn.pipeline import Pipeline"
   ]
  },
  {
   "cell_type": "code",
   "execution_count": 33,
   "id": "f624f8fb",
   "metadata": {},
   "outputs": [],
   "source": [
    "scaler=StandardScaler()\n",
    "log_model=LogisticRegression(penalty='elasticnet', solver='saga', max_iter=3000)\n",
    "# saga is the only solver available for elasticnet\n",
    "# Default max_iter: 100, seems a bit small"
   ]
  },
  {
   "cell_type": "code",
   "execution_count": 34,
   "id": "076f4944",
   "metadata": {},
   "outputs": [],
   "source": [
    "# Construct Pipeline: Standard scale and logistic model with elastic net regularization\n",
    "operations_logistic = [('scaler',scaler),('log_model',log_model)]\n",
    "pipe_logistic = Pipeline(operations_logistic)"
   ]
  },
  {
   "cell_type": "markdown",
   "id": "cec4a697",
   "metadata": {},
   "source": [
    "#### Let's start with logistic regression with elasticnet regularization "
   ]
  },
  {
   "cell_type": "code",
   "execution_count": 35,
   "id": "70b88cb7",
   "metadata": {},
   "outputs": [],
   "source": [
    "param_grid = {'log_model__C':np.logspace(-2,2,20),'log_model__l1_ratio':np.linspace(0,1,20)}\n",
    "cv_logistic = GridSearchCV(pipe_logistic, param_grid=param_grid, cv=5, scoring='accuracy')"
   ]
  },
  {
   "cell_type": "code",
   "execution_count": 36,
   "id": "ca244822",
   "metadata": {},
   "outputs": [
    {
     "data": {
      "text/plain": [
       "GridSearchCV(cv=5,\n",
       "             estimator=Pipeline(steps=[('scaler', StandardScaler()),\n",
       "                                       ('log_model',\n",
       "                                        LogisticRegression(max_iter=3000,\n",
       "                                                           penalty='elasticnet',\n",
       "                                                           solver='saga'))]),\n",
       "             param_grid={'log_model__C': array([1.00000000e-02, 1.62377674e-02, 2.63665090e-02, 4.28133240e-02,\n",
       "       6.95192796e-02, 1.12883789e-01, 1.83298071e-01, 2.97635144e-01,\n",
       "       4.83293024e-01, 7.84759970e-01, 1.2742749...\n",
       "       3.35981829e+00, 5.45559478e+00, 8.85866790e+00, 1.43844989e+01,\n",
       "       2.33572147e+01, 3.79269019e+01, 6.15848211e+01, 1.00000000e+02]),\n",
       "                         'log_model__l1_ratio': array([0.        , 0.05263158, 0.10526316, 0.15789474, 0.21052632,\n",
       "       0.26315789, 0.31578947, 0.36842105, 0.42105263, 0.47368421,\n",
       "       0.52631579, 0.57894737, 0.63157895, 0.68421053, 0.73684211,\n",
       "       0.78947368, 0.84210526, 0.89473684, 0.94736842, 1.        ])},\n",
       "             scoring='accuracy')"
      ]
     },
     "execution_count": 36,
     "metadata": {},
     "output_type": "execute_result"
    }
   ],
   "source": [
    "cv_logistic.fit(X_train,y_train)"
   ]
  },
  {
   "cell_type": "code",
   "execution_count": 37,
   "id": "a0b00941",
   "metadata": {},
   "outputs": [
    {
     "data": {
      "text/plain": [
       "Pipeline(steps=[('scaler', StandardScaler()),\n",
       "                ('log_model',\n",
       "                 LogisticRegression(C=0.4832930238571752,\n",
       "                                    l1_ratio=0.9473684210526315, max_iter=3000,\n",
       "                                    penalty='elasticnet', solver='saga'))])"
      ]
     },
     "execution_count": 37,
     "metadata": {},
     "output_type": "execute_result"
    }
   ],
   "source": [
    "cv_logistic.best_estimator_"
   ]
  },
  {
   "cell_type": "markdown",
   "id": "db8e8113",
   "metadata": {},
   "source": [
    "### Evaluate the logistic regression model"
   ]
  },
  {
   "cell_type": "code",
   "execution_count": 38,
   "id": "ce416895",
   "metadata": {},
   "outputs": [],
   "source": [
    "from sklearn.metrics import confusion_matrix, classification_report, ConfusionMatrixDisplay"
   ]
  },
  {
   "cell_type": "code",
   "execution_count": 39,
   "id": "3392998f",
   "metadata": {},
   "outputs": [],
   "source": [
    "y_pred_logistic = cv_logistic.predict(X_test)"
   ]
  },
  {
   "cell_type": "code",
   "execution_count": 40,
   "id": "02f89534",
   "metadata": {},
   "outputs": [
    {
     "name": "stdout",
     "output_type": "stream",
     "text": [
      "              precision    recall  f1-score   support\n",
      "\n",
      "        Fail       0.87      0.95      0.91       235\n",
      "        Pass       0.81      0.61      0.70        85\n",
      "\n",
      "    accuracy                           0.86       320\n",
      "   macro avg       0.84      0.78      0.80       320\n",
      "weighted avg       0.86      0.86      0.85       320\n",
      "\n"
     ]
    },
    {
     "data": {
      "text/plain": [
       "<sklearn.metrics._plot.confusion_matrix.ConfusionMatrixDisplay at 0x1a764e98e50>"
      ]
     },
     "execution_count": 40,
     "metadata": {},
     "output_type": "execute_result"
    },
    {
     "data": {
      "image/png": "[encoded data removed]",
      "text/plain": [
       "<Figure size 432x288 with 2 Axes>"
      ]
     },
     "metadata": {
      "needs_background": "light"
     },
     "output_type": "display_data"
    }
   ],
   "source": [
    "print(classification_report(y_test,y_pred_logistic))\n",
    "ConfusionMatrixDisplay.from_estimator(cv_logistic,X_test,y_test,cmap='Blues')"
   ]
  },
  {
   "cell_type": "markdown",
   "id": "0ebe9bea",
   "metadata": {},
   "source": [
    "### Good at predicting \"Not Passing Qual\" but not good at predicting \"Passing Qual\"\n",
    "#### What does this mean regarding the model performance?\n",
    "\n",
    "The dataset is a bit imbalanced: There are a lot more Failed cases than the Passing cases. The model is trained with accuracy and prediction can be biased (or weighted) toward \"a player will not pass the Qual\"."
   ]
  },
  {
   "cell_type": "markdown",
   "id": "dc1fbc03",
   "metadata": {},
   "source": [
    "## Decision tree based model: Random Forest\n",
    "Random Forest model because\n",
    "\n",
    "1. No need to worry about overfitting\n",
    "\n",
    "2. Generally better performance than single tree method"
   ]
  },
  {
   "cell_type": "code",
   "execution_count": 41,
   "id": "0799807c",
   "metadata": {},
   "outputs": [],
   "source": [
    "from sklearn.ensemble import RandomForestClassifier"
   ]
  },
  {
   "cell_type": "code",
   "execution_count": 42,
   "id": "5558787d",
   "metadata": {},
   "outputs": [],
   "source": [
    "rfc = RandomForestClassifier(max_features=2) # We have 4 features and library suggested using log2 (4) or sqrt(4); basically 2."
   ]
  },
  {
   "cell_type": "markdown",
   "id": "fb8d2af6",
   "metadata": {},
   "source": [
    "We don't need to scale the features because Tree based method only use one feature in a node."
   ]
  },
  {
   "cell_type": "code",
   "execution_count": 43,
   "id": "9fab7a9a",
   "metadata": {},
   "outputs": [
    {
     "data": {
      "text/plain": [
       "RandomForestClassifier(max_features=2)"
      ]
     },
     "execution_count": 43,
     "metadata": {},
     "output_type": "execute_result"
    }
   ],
   "source": [
    "rfc.fit(X_train,y_train)"
   ]
  },
  {
   "cell_type": "code",
   "execution_count": 44,
   "id": "1b4f8a76",
   "metadata": {},
   "outputs": [],
   "source": [
    "y_pred_forest = rfc.predict(X_test)"
   ]
  },
  {
   "cell_type": "code",
   "execution_count": 45,
   "id": "6a345434",
   "metadata": {},
   "outputs": [
    {
     "name": "stdout",
     "output_type": "stream",
     "text": [
      "Index(['Qual top', 'Qual zone', 'Qual top attempts', 'Qual zone attempts'], dtype='object')\n",
      "[0.38108427 0.18576167 0.2223743  0.21077976]\n"
     ]
    }
   ],
   "source": [
    "print(X_train.columns)\n",
    "print(rfc.feature_importances_)"
   ]
  },
  {
   "cell_type": "markdown",
   "id": "9aa9b29e",
   "metadata": {},
   "source": [
    "The forest model evaluate the importance: Top > Top Attempts > Zone Attempts > Zone: This is quite counter-intuitive!\n",
    "\n",
    "### Evaluate the Forest Model\n",
    "The forest model is worse in predicting both Passing Qual and Failing Qual than the logistic regression model. Let's try SVM-Classifier."
   ]
  },
  {
   "cell_type": "code",
   "execution_count": 46,
   "id": "ee9284fe",
   "metadata": {},
   "outputs": [
    {
     "name": "stdout",
     "output_type": "stream",
     "text": [
      "              precision    recall  f1-score   support\n",
      "\n",
      "        Fail       0.88      0.90      0.89       235\n",
      "        Pass       0.71      0.66      0.68        85\n",
      "\n",
      "    accuracy                           0.84       320\n",
      "   macro avg       0.79      0.78      0.79       320\n",
      "weighted avg       0.83      0.84      0.84       320\n",
      "\n"
     ]
    },
    {
     "data": {
      "text/plain": [
       "<sklearn.metrics._plot.confusion_matrix.ConfusionMatrixDisplay at 0x1a76505e4c0>"
      ]
     },
     "execution_count": 46,
     "metadata": {},
     "output_type": "execute_result"
    },
    {
     "data": {
      "image/png": "[encoded data removed]",
      "text/plain": [
       "<Figure size 432x288 with 2 Axes>"
      ]
     },
     "metadata": {
      "needs_background": "light"
     },
     "output_type": "display_data"
    }
   ],
   "source": [
    "print(classification_report(y_test,y_pred_forest))\n",
    "ConfusionMatrixDisplay.from_estimator(rfc,X_test,y_test,cmap='Reds')"
   ]
  },
  {
   "cell_type": "markdown",
   "id": "d804c46b",
   "metadata": {},
   "source": [
    "## Support Vector Machine based model: SVC"
   ]
  },
  {
   "cell_type": "code",
   "execution_count": 47,
   "id": "07b4d205",
   "metadata": {},
   "outputs": [],
   "source": [
    "from sklearn.svm import SVC"
   ]
  },
  {
   "cell_type": "code",
   "execution_count": 48,
   "id": "ee02aa1c",
   "metadata": {},
   "outputs": [],
   "source": [
    "svc=SVC() # Gridsearch 'C', 'gamma'\n",
    "operation_svc = [('scaler',scaler),('svc',svc)]\n",
    "pipe_svc = Pipeline(operation_svc)\n",
    "\n",
    "\n",
    "param_grid={'svc__C':np.logspace(-2,2,20),'svc__gamma':['scale','auto']}\n",
    "grid_svc = GridSearchCV(pipe_svc, param_grid, scoring='accuracy')"
   ]
  },
  {
   "cell_type": "code",
   "execution_count": 49,
   "id": "ca086b3a",
   "metadata": {},
   "outputs": [
    {
     "data": {
      "text/plain": [
       "GridSearchCV(estimator=Pipeline(steps=[('scaler', StandardScaler()),\n",
       "                                       ('svc', SVC())]),\n",
       "             param_grid={'svc__C': array([1.00000000e-02, 1.62377674e-02, 2.63665090e-02, 4.28133240e-02,\n",
       "       6.95192796e-02, 1.12883789e-01, 1.83298071e-01, 2.97635144e-01,\n",
       "       4.83293024e-01, 7.84759970e-01, 1.27427499e+00, 2.06913808e+00,\n",
       "       3.35981829e+00, 5.45559478e+00, 8.85866790e+00, 1.43844989e+01,\n",
       "       2.33572147e+01, 3.79269019e+01, 6.15848211e+01, 1.00000000e+02]),\n",
       "                         'svc__gamma': ['scale', 'auto']},\n",
       "             scoring='accuracy')"
      ]
     },
     "execution_count": 49,
     "metadata": {},
     "output_type": "execute_result"
    }
   ],
   "source": [
    "grid_svc.fit(X_train,y_train)"
   ]
  },
  {
   "cell_type": "code",
   "execution_count": 50,
   "id": "55f2dfd8",
   "metadata": {},
   "outputs": [
    {
     "data": {
      "text/plain": [
       "Pipeline(steps=[('scaler', StandardScaler()),\n",
       "                ('svc', SVC(C=0.7847599703514611))])"
      ]
     },
     "execution_count": 50,
     "metadata": {},
     "output_type": "execute_result"
    }
   ],
   "source": [
    "grid_svc.best_estimator_"
   ]
  },
  {
   "cell_type": "code",
   "execution_count": 51,
   "id": "cf1e956c",
   "metadata": {},
   "outputs": [
    {
     "data": {
      "text/plain": [
       "{'svc__C': 0.7847599703514611, 'svc__gamma': 'scale'}"
      ]
     },
     "execution_count": 51,
     "metadata": {},
     "output_type": "execute_result"
    }
   ],
   "source": [
    "grid_svc.best_params_"
   ]
  },
  {
   "cell_type": "code",
   "execution_count": 52,
   "id": "683027b3",
   "metadata": {},
   "outputs": [
    {
     "name": "stdout",
     "output_type": "stream",
     "text": [
      "              precision    recall  f1-score   support\n",
      "\n",
      "        Fail       0.85      0.97      0.91       235\n",
      "        Pass       0.87      0.54      0.67        85\n",
      "\n",
      "    accuracy                           0.86       320\n",
      "   macro avg       0.86      0.76      0.79       320\n",
      "weighted avg       0.86      0.86      0.84       320\n",
      "\n"
     ]
    },
    {
     "data": {
      "text/plain": [
       "<sklearn.metrics._plot.confusion_matrix.ConfusionMatrixDisplay at 0x1a75d81cdf0>"
      ]
     },
     "execution_count": 52,
     "metadata": {},
     "output_type": "execute_result"
    },
    {
     "data": {
      "image/png": "[encoded data removed]",
      "text/plain": [
       "<Figure size 432x288 with 2 Axes>"
      ]
     },
     "metadata": {
      "needs_background": "light"
     },
     "output_type": "display_data"
    }
   ],
   "source": [
    "y_pred_svc = grid_svc.predict(X_test)\n",
    "print(classification_report(y_test,y_pred_svc))\n",
    "ConfusionMatrixDisplay.from_estimator(grid_svc,X_test,y_test,cmap='Greens')"
   ]
  },
  {
   "cell_type": "markdown",
   "id": "f959b19d",
   "metadata": {},
   "source": [
    "# Model Evaluation and Selection"
   ]
  },
  {
   "cell_type": "code",
   "execution_count": 53,
   "id": "fd3fe87d",
   "metadata": {},
   "outputs": [
    {
     "name": "stdout",
     "output_type": "stream",
     "text": [
      "Logistic Regression Model\n",
      "              precision    recall  f1-score   support\n",
      "\n",
      "        Fail       0.87      0.95      0.91       235\n",
      "        Pass       0.81      0.61      0.70        85\n",
      "\n",
      "    accuracy                           0.86       320\n",
      "   macro avg       0.84      0.78      0.80       320\n",
      "weighted avg       0.86      0.86      0.85       320\n",
      "\n",
      "\n",
      "Random Forest Model\n",
      "              precision    recall  f1-score   support\n",
      "\n",
      "        Fail       0.88      0.90      0.89       235\n",
      "        Pass       0.71      0.66      0.68        85\n",
      "\n",
      "    accuracy                           0.84       320\n",
      "   macro avg       0.79      0.78      0.79       320\n",
      "weighted avg       0.83      0.84      0.84       320\n",
      "\n",
      "\n",
      "Support Vector Classifier Model\n",
      "              precision    recall  f1-score   support\n",
      "\n",
      "        Fail       0.85      0.97      0.91       235\n",
      "        Pass       0.87      0.54      0.67        85\n",
      "\n",
      "    accuracy                           0.86       320\n",
      "   macro avg       0.86      0.76      0.79       320\n",
      "weighted avg       0.86      0.86      0.84       320\n",
      "\n"
     ]
    },
    {
     "data": {
      "text/plain": [
       "<sklearn.metrics._plot.confusion_matrix.ConfusionMatrixDisplay at 0x1a76471e760>"
      ]
     },
     "execution_count": 53,
     "metadata": {},
     "output_type": "execute_result"
    },
    {
     "data": {
      "image/png": "[encoded data removed]",
      "text/plain": [
       "<Figure size 432x288 with 2 Axes>"
      ]
     },
     "metadata": {
      "needs_background": "light"
     },
     "output_type": "display_data"
    },
    {
     "data": {
      "image/png": "[encoded data removed]",
      "text/plain": [
       "<Figure size 432x288 with 2 Axes>"
      ]
     },
     "metadata": {
      "needs_background": "light"
     },
     "output_type": "display_data"
    },
    {
     "data": {
      "image/png": "[encoded data removed]",
      "text/plain": [
       "<Figure size 432x288 with 2 Axes>"
      ]
     },
     "metadata": {
      "needs_background": "light"
     },
     "output_type": "display_data"
    }
   ],
   "source": [
    "print(\"Logistic Regression Model\")\n",
    "print(classification_report(y_test,y_pred_logistic))\n",
    "ConfusionMatrixDisplay.from_estimator(cv_logistic,X_test,y_test,cmap='Blues')\n",
    "print('\\nRandom Forest Model')\n",
    "print(classification_report(y_test,y_pred_forest))\n",
    "ConfusionMatrixDisplay.from_estimator(rfc,X_test,y_test,cmap='Reds')\n",
    "print('\\nSupport Vector Classifier Model')\n",
    "print(classification_report(y_test,y_pred_svc))\n",
    "ConfusionMatrixDisplay.from_estimator(grid_svc,X_test,y_test,cmap='Greens')"
   ]
  },
  {
   "cell_type": "markdown",
   "id": "1a04357e",
   "metadata": {},
   "source": [
    "# Conclusion\n",
    "Regardless of model of choice, predicting failing qual is quite accurate in terms of both precision and recall. It means the negative prediction is correct in most cases and the models catch failure cases quite accurately.\n",
    "\n",
    "Given that the accuracy is a good parameter to evaluate the overall performance, I found no significant difference between performance of Logistic model and Support Vector classification model. I would choose logistic model to predict one's qualification result because it is slightly better in performance.\n",
    "\n",
    "#### Possible reason for bad performance on predicting \"Passing\" qual\n",
    "Having a lot of outliers is one of the well-known reasons that drop the model performance. If you have a look at the boxplots in feature engineering process, there were generally more outliers in \"passing qual\" category. You can even see some outliers from Top vs Passing qual boxplot, which is the strongest indicator to predict passing qual. I believe any model will perform worse to predict \"pass\" than \"fail\" due to the given data's character."
   ]
  }
 ],
 "metadata": {
  "kernelspec": {
   "display_name": "Python 3 (ipykernel)",
   "language": "python",
   "name": "python3"
  },
  "language_info": {
   "codemirror_mode": {
    "name": "ipython",
    "version": 3
   },
   "file_extension": ".py",
   "mimetype": "text/x-python",
   "name": "python",
   "nbconvert_exporter": "python",
   "pygments_lexer": "ipython3",
   "version": "3.9.12"
  }
 },
 "nbformat": 4,
 "nbformat_minor": 5
}
