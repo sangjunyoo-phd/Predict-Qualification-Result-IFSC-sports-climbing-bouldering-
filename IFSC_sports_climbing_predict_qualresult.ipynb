{
 "cells": [
  {
   "cell_type": "code",
   "execution_count": 1,
   "id": "c32a69fd",
   "metadata": {},
   "outputs": [],
   "source": [
    "import pandas as pd\n",
    "import numpy as np\n",
    "import seaborn as sns\n",
    "import matplotlib.pyplot as plt"
   ]
  },
  {
   "cell_type": "code",
   "execution_count": 2,
   "id": "43af1e2d",
   "metadata": {},
   "outputs": [],
   "source": [
    "df=pd.read_csv('dataset/boulder_results.csv')"
   ]
  },
  {
   "cell_type": "code",
   "execution_count": 3,
   "id": "54b05fac",
   "metadata": {},
   "outputs": [
    {
     "data": {
      "text/html": [
       "<div>\n",
       "<style scoped>\n",
       "    .dataframe tbody tr th:only-of-type {\n",
       "        vertical-align: middle;\n",
       "    }\n",
       "\n",
       "    .dataframe tbody tr th {\n",
       "        vertical-align: top;\n",
       "    }\n",
       "\n",
       "    .dataframe thead th {\n",
       "        text-align: right;\n",
       "    }\n",
       "</style>\n",
       "<table border=\"1\" class=\"dataframe\">\n",
       "  <thead>\n",
       "    <tr style=\"text-align: right;\">\n",
       "      <th></th>\n",
       "      <th>Competition Title</th>\n",
       "      <th>Competition Date</th>\n",
       "      <th>FIRST</th>\n",
       "      <th>LAST</th>\n",
       "      <th>Nation</th>\n",
       "      <th>StartNr</th>\n",
       "      <th>Rank</th>\n",
       "      <th>Qualification</th>\n",
       "      <th>Qualification 1</th>\n",
       "      <th>Qualification 2</th>\n",
       "      <th>Semifinal</th>\n",
       "      <th>Final</th>\n",
       "      <th>Category</th>\n",
       "    </tr>\n",
       "  </thead>\n",
       "  <tbody>\n",
       "    <tr>\n",
       "      <th>0</th>\n",
       "      <td>European Youth Championships (B) - Brixen (ITA...</td>\n",
       "      <td>20  - 22 September 2019</td>\n",
       "      <td>Naile</td>\n",
       "      <td>MEIGNAN</td>\n",
       "      <td>FRA</td>\n",
       "      <td>15.0</td>\n",
       "      <td>1</td>\n",
       "      <td>6T7z99</td>\n",
       "      <td>NaN</td>\n",
       "      <td>NaN</td>\n",
       "      <td>3T4z55</td>\n",
       "      <td>3T4z89</td>\n",
       "      <td>boulder</td>\n",
       "    </tr>\n",
       "    <tr>\n",
       "      <th>1</th>\n",
       "      <td>European Youth Championships (B) - Brixen (ITA...</td>\n",
       "      <td>20  - 22 September 2019</td>\n",
       "      <td>Miriam</td>\n",
       "      <td>FOGU</td>\n",
       "      <td>ITA</td>\n",
       "      <td>27.0</td>\n",
       "      <td>2</td>\n",
       "      <td>4T8z814</td>\n",
       "      <td>NaN</td>\n",
       "      <td>NaN</td>\n",
       "      <td>3T4z55</td>\n",
       "      <td>2T4z27</td>\n",
       "      <td>boulder</td>\n",
       "    </tr>\n",
       "    <tr>\n",
       "      <th>2</th>\n",
       "      <td>European Youth Championships (B) - Brixen (ITA...</td>\n",
       "      <td>20  - 22 September 2019</td>\n",
       "      <td>Vanda</td>\n",
       "      <td>MICHALKOVA</td>\n",
       "      <td>SVK</td>\n",
       "      <td>48.0</td>\n",
       "      <td>3</td>\n",
       "      <td>6T7z89</td>\n",
       "      <td>NaN</td>\n",
       "      <td>NaN</td>\n",
       "      <td>3T3z43</td>\n",
       "      <td>2T3z23</td>\n",
       "      <td>boulder</td>\n",
       "    </tr>\n",
       "    <tr>\n",
       "      <th>3</th>\n",
       "      <td>European Youth Championships (B) - Brixen (ITA...</td>\n",
       "      <td>20  - 22 September 2019</td>\n",
       "      <td>Lola</td>\n",
       "      <td>SAUTIER</td>\n",
       "      <td>FRA</td>\n",
       "      <td>17.0</td>\n",
       "      <td>4</td>\n",
       "      <td>4T6z69</td>\n",
       "      <td>NaN</td>\n",
       "      <td>NaN</td>\n",
       "      <td>2T3z89</td>\n",
       "      <td>1T3z38</td>\n",
       "      <td>boulder</td>\n",
       "    </tr>\n",
       "    <tr>\n",
       "      <th>4</th>\n",
       "      <td>European Youth Championships (B) - Brixen (ITA...</td>\n",
       "      <td>20  - 22 September 2019</td>\n",
       "      <td>Polina</td>\n",
       "      <td>KULAGINA</td>\n",
       "      <td>RUS</td>\n",
       "      <td>39.0</td>\n",
       "      <td>5</td>\n",
       "      <td>4T6z611</td>\n",
       "      <td>NaN</td>\n",
       "      <td>NaN</td>\n",
       "      <td>3T4z76</td>\n",
       "      <td>1T3z47</td>\n",
       "      <td>boulder</td>\n",
       "    </tr>\n",
       "  </tbody>\n",
       "</table>\n",
       "</div>"
      ],
      "text/plain": [
       "                                   Competition Title         Competition Date  \\\n",
       "0  European Youth Championships (B) - Brixen (ITA...  20  - 22 September 2019   \n",
       "1  European Youth Championships (B) - Brixen (ITA...  20  - 22 September 2019   \n",
       "2  European Youth Championships (B) - Brixen (ITA...  20  - 22 September 2019   \n",
       "3  European Youth Championships (B) - Brixen (ITA...  20  - 22 September 2019   \n",
       "4  European Youth Championships (B) - Brixen (ITA...  20  - 22 September 2019   \n",
       "\n",
       "    FIRST        LAST Nation  StartNr  Rank Qualification Qualification 1  \\\n",
       "0   Naile     MEIGNAN    FRA     15.0     1        6T7z99             NaN   \n",
       "1  Miriam        FOGU    ITA     27.0     2       4T8z814             NaN   \n",
       "2   Vanda  MICHALKOVA    SVK     48.0     3        6T7z89             NaN   \n",
       "3    Lola     SAUTIER    FRA     17.0     4        4T6z69             NaN   \n",
       "4  Polina    KULAGINA    RUS     39.0     5       4T6z611             NaN   \n",
       "\n",
       "  Qualification 2 Semifinal   Final Category  \n",
       "0             NaN    3T4z55  3T4z89  boulder  \n",
       "1             NaN    3T4z55  2T4z27  boulder  \n",
       "2             NaN    3T3z43  2T3z23  boulder  \n",
       "3             NaN    2T3z89  1T3z38  boulder  \n",
       "4             NaN    3T4z76  1T3z47  boulder  "
      ]
     },
     "execution_count": 3,
     "metadata": {},
     "output_type": "execute_result"
    }
   ],
   "source": [
    "df.head()"
   ]
  },
  {
   "cell_type": "markdown",
   "id": "74e805a3",
   "metadata": {},
   "source": [
    "# Project Goal: Make a model to predict how good a player should perform to pass the Qualification"
   ]
  },
  {
   "cell_type": "markdown",
   "id": "2859ec6f",
   "metadata": {},
   "source": [
    "## How to evaluate the score\n",
    "Bouldering is scored using a combination of tops and zones to determine rank. Athletes each get four minutes to reach the top of four boulders (three in the final), with the number of attempts influencing their final score. The aim is to top the boulder in as few attempts as possible.\n",
    "\n",
    "Results are in the format Tz__. T corresponds to top, which means the climber reached the top hold and finished the problem. z corresponds to zone, which means the climber reached the zone hold and partially finished the problem. The numbers before each correspond to how many tops or zones were reached, and numbers after signify how many attempts were taken.\n",
    "\n",
    "Example:\n",
    "2T4z58 means that the climber had 2 tops, 4 zones, and took 5 total attempts to get the tops, and 8 total attempts to reach the zones.\n",
    "\n",
    "Qualification: Sometimes there are multiple groups for qualifications, and when that is the case the results will be split to indicate which qualification group the climber was in."
   ]
  },
  {
   "cell_type": "markdown",
   "id": "58c6b9bf",
   "metadata": {},
   "source": [
    "## Plan ahead\n",
    "#### Data Acquisition\n",
    "* Use a dataset uploaded on Kaggle. (Source: IFSC Sport Climbing Competition Results)\n",
    "\n",
    "#### Data Cleaning\n",
    "* Narrow down to adult competition only.\n",
    "* Merge Qualification, Qual1, and Qual2 columns together for the reason mentioned above.\n",
    "* Re-frame the string score data to numeric variables and check the correlation to the passing Qual.\n",
    "\n",
    "#### Exploratory Data Analysis\n",
    "* Check correlation between features and qualification result\n",
    "\n",
    "#### Feature Engineering\n",
    "\n",
    "#### Train / Test models\n",
    "* Perform various classification methods: Logistic Regression, Tree-based mehtod, and Support Vector Classifier.\n",
    "\n",
    "#### Evalutation of the model\n",
    "* Consider accuracy and f1 score: Generally good score to evaluate the model."
   ]
  },
  {
   "cell_type": "markdown",
   "id": "7adf074a",
   "metadata": {},
   "source": [
    "## Data Cleaning"
   ]
  },
  {
   "cell_type": "code",
   "execution_count": 4,
   "id": "937cadba",
   "metadata": {},
   "outputs": [
    {
     "name": "stdout",
     "output_type": "stream",
     "text": [
      "4309\n",
      "2155\n",
      "0\n"
     ]
    }
   ],
   "source": [
    "# Merge Qualification scores in one column\n",
    "# print the number of null values and see if it decreases to 0\n",
    "print(df['Qualification'].isnull().sum())\n",
    "df['Qualification'].fillna(df['Qualification 1'], inplace=True)\n",
    "print(df['Qualification'].isnull().sum())\n",
    "df['Qualification'].fillna(df['Qualification 2'], inplace=True)\n",
    "print(df['Qualification'].isnull().sum())"
   ]
  },
  {
   "cell_type": "code",
   "execution_count": 5,
   "id": "32083413",
   "metadata": {},
   "outputs": [],
   "source": [
    "# Remove Qual 1 Qual 2 Columns\n",
    "if df['Qualification'].isnull().sum()==0:\n",
    "    df = df.drop(['Qualification 1','Qualification 2'], axis=1)"
   ]
  },
  {
   "cell_type": "code",
   "execution_count": 6,
   "id": "2ecab369",
   "metadata": {},
   "outputs": [
    {
     "name": "stdout",
     "output_type": "stream",
     "text": [
      "<class 'pandas.core.frame.DataFrame'>\n",
      "Int64Index: 3197 entries, 282 to 6468\n",
      "Data columns (total 11 columns):\n",
      " #   Column             Non-Null Count  Dtype  \n",
      "---  ------             --------------  -----  \n",
      " 0   Competition Title  3197 non-null   object \n",
      " 1   Competition Date   3197 non-null   object \n",
      " 2   FIRST              3197 non-null   object \n",
      " 3   LAST               3197 non-null   object \n",
      " 4   Nation             3197 non-null   object \n",
      " 5   StartNr            3197 non-null   float64\n",
      " 6   Rank               3197 non-null   int64  \n",
      " 7   Qualification      3197 non-null   object \n",
      " 8   Semifinal          800 non-null    object \n",
      " 9   Final              260 non-null    object \n",
      " 10  Category           3197 non-null   object \n",
      "dtypes: float64(1), int64(1), object(9)\n",
      "memory usage: 299.7+ KB\n"
     ]
    }
   ],
   "source": [
    "# Get rid of the Youth competition: 3197 entries left\n",
    "df = df[~df['Competition Title'].str.contains('Youth')]\n",
    "df.info()"
   ]
  },
  {
   "cell_type": "code",
   "execution_count": 7,
   "id": "14b092be",
   "metadata": {},
   "outputs": [
    {
     "data": {
      "text/plain": [
       "array(['ldering'], dtype=object)"
      ]
     },
     "execution_count": 7,
     "metadata": {},
     "output_type": "execute_result"
    }
   ],
   "source": [
    "df['Category'].unique()"
   ]
  },
  {
   "cell_type": "code",
   "execution_count": 8,
   "id": "3bdd8293",
   "metadata": {},
   "outputs": [],
   "source": [
    "df.drop('Category', axis=1, inplace=True)"
   ]
  },
  {
   "cell_type": "code",
   "execution_count": 9,
   "id": "2769be1c",
   "metadata": {},
   "outputs": [
    {
     "data": {
      "text/html": [
       "<div>\n",
       "<style scoped>\n",
       "    .dataframe tbody tr th:only-of-type {\n",
       "        vertical-align: middle;\n",
       "    }\n",
       "\n",
       "    .dataframe tbody tr th {\n",
       "        vertical-align: top;\n",
       "    }\n",
       "\n",
       "    .dataframe thead th {\n",
       "        text-align: right;\n",
       "    }\n",
       "</style>\n",
       "<table border=\"1\" class=\"dataframe\">\n",
       "  <thead>\n",
       "    <tr style=\"text-align: right;\">\n",
       "      <th></th>\n",
       "      <th>Competition Title</th>\n",
       "      <th>Competition Date</th>\n",
       "      <th>FIRST</th>\n",
       "      <th>LAST</th>\n",
       "      <th>Nation</th>\n",
       "      <th>StartNr</th>\n",
       "      <th>Rank</th>\n",
       "      <th>Qualification</th>\n",
       "      <th>Semifinal</th>\n",
       "      <th>Final</th>\n",
       "    </tr>\n",
       "  </thead>\n",
       "  <tbody>\n",
       "    <tr>\n",
       "      <th>282</th>\n",
       "      <td>European Championship (B) - Zakopane (POL) 2019</td>\n",
       "      <td>5  - 7 September 2019</td>\n",
       "      <td>Urska</td>\n",
       "      <td>REPUSIC</td>\n",
       "      <td>SLO</td>\n",
       "      <td>63.0</td>\n",
       "      <td>1</td>\n",
       "      <td>3T4z68</td>\n",
       "      <td>3T4z67</td>\n",
       "      <td>3T4z45</td>\n",
       "    </tr>\n",
       "    <tr>\n",
       "      <th>283</th>\n",
       "      <td>European Championship (B) - Zakopane (POL) 2019</td>\n",
       "      <td>5  - 7 September 2019</td>\n",
       "      <td>Vita</td>\n",
       "      <td>LUKAN</td>\n",
       "      <td>SLO</td>\n",
       "      <td>61.0</td>\n",
       "      <td>2</td>\n",
       "      <td>5T5z118</td>\n",
       "      <td>3T4z57</td>\n",
       "      <td>3T4z68</td>\n",
       "    </tr>\n",
       "    <tr>\n",
       "      <th>284</th>\n",
       "      <td>European Championship (B) - Zakopane (POL) 2019</td>\n",
       "      <td>5  - 7 September 2019</td>\n",
       "      <td>Irina</td>\n",
       "      <td>KUZMENKO</td>\n",
       "      <td>RUS</td>\n",
       "      <td>68.0</td>\n",
       "      <td>3</td>\n",
       "      <td>5T5z1513</td>\n",
       "      <td>3T4z510</td>\n",
       "      <td>3T4z817</td>\n",
       "    </tr>\n",
       "    <tr>\n",
       "      <th>285</th>\n",
       "      <td>European Championship (B) - Zakopane (POL) 2019</td>\n",
       "      <td>5  - 7 September 2019</td>\n",
       "      <td>Alma</td>\n",
       "      <td>BESTVATER</td>\n",
       "      <td>GER</td>\n",
       "      <td>67.0</td>\n",
       "      <td>4</td>\n",
       "      <td>4T4z84</td>\n",
       "      <td>3T4z46</td>\n",
       "      <td>3T3z33</td>\n",
       "    </tr>\n",
       "    <tr>\n",
       "      <th>286</th>\n",
       "      <td>European Championship (B) - Zakopane (POL) 2019</td>\n",
       "      <td>5  - 7 September 2019</td>\n",
       "      <td>Yael</td>\n",
       "      <td>TAUB</td>\n",
       "      <td>ISR</td>\n",
       "      <td>90.0</td>\n",
       "      <td>5</td>\n",
       "      <td>2T5z410</td>\n",
       "      <td>3T4z56</td>\n",
       "      <td>2T3z46</td>\n",
       "    </tr>\n",
       "  </tbody>\n",
       "</table>\n",
       "</div>"
      ],
      "text/plain": [
       "                                   Competition Title       Competition Date  \\\n",
       "282  European Championship (B) - Zakopane (POL) 2019  5  - 7 September 2019   \n",
       "283  European Championship (B) - Zakopane (POL) 2019  5  - 7 September 2019   \n",
       "284  European Championship (B) - Zakopane (POL) 2019  5  - 7 September 2019   \n",
       "285  European Championship (B) - Zakopane (POL) 2019  5  - 7 September 2019   \n",
       "286  European Championship (B) - Zakopane (POL) 2019  5  - 7 September 2019   \n",
       "\n",
       "     FIRST       LAST Nation  StartNr  Rank Qualification Semifinal    Final  \n",
       "282  Urska    REPUSIC    SLO     63.0     1        3T4z68    3T4z67   3T4z45  \n",
       "283   Vita      LUKAN    SLO     61.0     2       5T5z118    3T4z57   3T4z68  \n",
       "284  Irina   KUZMENKO    RUS     68.0     3      5T5z1513   3T4z510  3T4z817  \n",
       "285   Alma  BESTVATER    GER     67.0     4        4T4z84    3T4z46   3T3z33  \n",
       "286   Yael       TAUB    ISR     90.0     5       2T5z410    3T4z56   2T3z46  "
      ]
     },
     "execution_count": 9,
     "metadata": {},
     "output_type": "execute_result"
    }
   ],
   "source": [
    "df.head()"
   ]
  },
  {
   "cell_type": "markdown",
   "id": "5b62cf12",
   "metadata": {},
   "source": [
    "## Part 1: Convert string scores to numerical values\n",
    "* Quantify the score from string to integers (# of tops, # of zones, # of top attempts, # of zone attempts)\n",
    "* Make another columns to check if the player pass the Qual. If the player has semifinal score, consider the one passed the qualification."
   ]
  },
  {
   "cell_type": "code",
   "execution_count": 10,
   "id": "9537e564",
   "metadata": {},
   "outputs": [],
   "source": [
    "def score(row, rnd): # rnd: string 'Qualification', 'Semifinal', Final\n",
    "    temp = row[rnd].split('T')\n",
    "    top = int(temp[0])\n",
    "    temp = temp[1].split('z')\n",
    "    zone = int(temp[0])\n",
    "    \n",
    "    # t_attempt >= top\n",
    "    # z_attempt >= zone\n",
    "    t_attempt = temp[1][0]  # Initial condition: first number after \"z\"\n",
    "    i=1\n",
    "    while int(t_attempt)<top:\n",
    "        t_attempt=t_attempt+temp[1][i]\n",
    "        i+=1\n",
    "    \n",
    "    z_attempt=temp[1][len(t_attempt):]\n",
    "    if len(z_attempt)>2: # Attempts more than 100 is physically impossible. (you only have 4 mins)\n",
    "        t_attempt=t_attempt+temp[1][len(t_attempt)]\n",
    "        \n",
    "    z_attempt = temp[1][len(t_attempt):]\n",
    "    \n",
    "    \n",
    "    t_attempt=int(t_attempt)\n",
    "    z_attempt=int(z_attempt)\n",
    "    \n",
    "    return [top, zone, t_attempt, z_attempt]"
   ]
  },
  {
   "cell_type": "code",
   "execution_count": 11,
   "id": "0e90eceb",
   "metadata": {},
   "outputs": [
    {
     "data": {
      "text/html": [
       "<div>\n",
       "<style scoped>\n",
       "    .dataframe tbody tr th:only-of-type {\n",
       "        vertical-align: middle;\n",
       "    }\n",
       "\n",
       "    .dataframe tbody tr th {\n",
       "        vertical-align: top;\n",
       "    }\n",
       "\n",
       "    .dataframe thead th {\n",
       "        text-align: right;\n",
       "    }\n",
       "</style>\n",
       "<table border=\"1\" class=\"dataframe\">\n",
       "  <thead>\n",
       "    <tr style=\"text-align: right;\">\n",
       "      <th></th>\n",
       "      <th>Competition Title</th>\n",
       "      <th>Competition Date</th>\n",
       "      <th>FIRST</th>\n",
       "      <th>LAST</th>\n",
       "      <th>Nation</th>\n",
       "      <th>StartNr</th>\n",
       "      <th>Rank</th>\n",
       "      <th>Qualification</th>\n",
       "      <th>Semifinal</th>\n",
       "      <th>Final</th>\n",
       "      <th>top</th>\n",
       "      <th>zone</th>\n",
       "      <th>top attempts</th>\n",
       "      <th>zone attempts</th>\n",
       "      <th>Pass Qual</th>\n",
       "    </tr>\n",
       "  </thead>\n",
       "  <tbody>\n",
       "    <tr>\n",
       "      <th>282</th>\n",
       "      <td>European Championship (B) - Zakopane (POL) 2019</td>\n",
       "      <td>5  - 7 September 2019</td>\n",
       "      <td>Urska</td>\n",
       "      <td>REPUSIC</td>\n",
       "      <td>SLO</td>\n",
       "      <td>63.0</td>\n",
       "      <td>1</td>\n",
       "      <td>3T4z68</td>\n",
       "      <td>3T4z67</td>\n",
       "      <td>3T4z45</td>\n",
       "      <td>3</td>\n",
       "      <td>4</td>\n",
       "      <td>6</td>\n",
       "      <td>8</td>\n",
       "      <td>1</td>\n",
       "    </tr>\n",
       "    <tr>\n",
       "      <th>283</th>\n",
       "      <td>European Championship (B) - Zakopane (POL) 2019</td>\n",
       "      <td>5  - 7 September 2019</td>\n",
       "      <td>Vita</td>\n",
       "      <td>LUKAN</td>\n",
       "      <td>SLO</td>\n",
       "      <td>61.0</td>\n",
       "      <td>2</td>\n",
       "      <td>5T5z118</td>\n",
       "      <td>3T4z57</td>\n",
       "      <td>3T4z68</td>\n",
       "      <td>5</td>\n",
       "      <td>5</td>\n",
       "      <td>11</td>\n",
       "      <td>8</td>\n",
       "      <td>1</td>\n",
       "    </tr>\n",
       "    <tr>\n",
       "      <th>284</th>\n",
       "      <td>European Championship (B) - Zakopane (POL) 2019</td>\n",
       "      <td>5  - 7 September 2019</td>\n",
       "      <td>Irina</td>\n",
       "      <td>KUZMENKO</td>\n",
       "      <td>RUS</td>\n",
       "      <td>68.0</td>\n",
       "      <td>3</td>\n",
       "      <td>5T5z1513</td>\n",
       "      <td>3T4z510</td>\n",
       "      <td>3T4z817</td>\n",
       "      <td>5</td>\n",
       "      <td>5</td>\n",
       "      <td>15</td>\n",
       "      <td>13</td>\n",
       "      <td>1</td>\n",
       "    </tr>\n",
       "    <tr>\n",
       "      <th>285</th>\n",
       "      <td>European Championship (B) - Zakopane (POL) 2019</td>\n",
       "      <td>5  - 7 September 2019</td>\n",
       "      <td>Alma</td>\n",
       "      <td>BESTVATER</td>\n",
       "      <td>GER</td>\n",
       "      <td>67.0</td>\n",
       "      <td>4</td>\n",
       "      <td>4T4z84</td>\n",
       "      <td>3T4z46</td>\n",
       "      <td>3T3z33</td>\n",
       "      <td>4</td>\n",
       "      <td>4</td>\n",
       "      <td>8</td>\n",
       "      <td>4</td>\n",
       "      <td>1</td>\n",
       "    </tr>\n",
       "    <tr>\n",
       "      <th>286</th>\n",
       "      <td>European Championship (B) - Zakopane (POL) 2019</td>\n",
       "      <td>5  - 7 September 2019</td>\n",
       "      <td>Yael</td>\n",
       "      <td>TAUB</td>\n",
       "      <td>ISR</td>\n",
       "      <td>90.0</td>\n",
       "      <td>5</td>\n",
       "      <td>2T5z410</td>\n",
       "      <td>3T4z56</td>\n",
       "      <td>2T3z46</td>\n",
       "      <td>2</td>\n",
       "      <td>5</td>\n",
       "      <td>4</td>\n",
       "      <td>10</td>\n",
       "      <td>1</td>\n",
       "    </tr>\n",
       "  </tbody>\n",
       "</table>\n",
       "</div>"
      ],
      "text/plain": [
       "                                   Competition Title       Competition Date  \\\n",
       "282  European Championship (B) - Zakopane (POL) 2019  5  - 7 September 2019   \n",
       "283  European Championship (B) - Zakopane (POL) 2019  5  - 7 September 2019   \n",
       "284  European Championship (B) - Zakopane (POL) 2019  5  - 7 September 2019   \n",
       "285  European Championship (B) - Zakopane (POL) 2019  5  - 7 September 2019   \n",
       "286  European Championship (B) - Zakopane (POL) 2019  5  - 7 September 2019   \n",
       "\n",
       "     FIRST       LAST Nation  StartNr  Rank Qualification Semifinal    Final  \\\n",
       "282  Urska    REPUSIC    SLO     63.0     1        3T4z68    3T4z67   3T4z45   \n",
       "283   Vita      LUKAN    SLO     61.0     2       5T5z118    3T4z57   3T4z68   \n",
       "284  Irina   KUZMENKO    RUS     68.0     3      5T5z1513   3T4z510  3T4z817   \n",
       "285   Alma  BESTVATER    GER     67.0     4        4T4z84    3T4z46   3T3z33   \n",
       "286   Yael       TAUB    ISR     90.0     5       2T5z410    3T4z56   2T3z46   \n",
       "\n",
       "     top  zone  top attempts  zone attempts  Pass Qual  \n",
       "282    3     4             6              8          1  \n",
       "283    5     5            11              8          1  \n",
       "284    5     5            15             13          1  \n",
       "285    4     4             8              4          1  \n",
       "286    2     5             4             10          1  "
      ]
     },
     "execution_count": 11,
     "metadata": {},
     "output_type": "execute_result"
    }
   ],
   "source": [
    "columns_to_add = ['top', 'zone', 'top attempts', 'zone attempts']\n",
    "for idx, col in enumerate(columns_to_add):\n",
    "    df[col] = df.apply(lambda row,rnd='Qualification': score(row,rnd)[idx], axis=1)\n",
    "\n",
    "# Having Semifinal score -> Passed Qualification!\n",
    "\n",
    "df['Pass Qual']=df['Semifinal'].notnull()\n",
    "df['Pass Qual']=df['Pass Qual'].map({True:1, False:0})\n",
    "df.head()"
   ]
  },
  {
   "cell_type": "markdown",
   "id": "ad6017e3",
   "metadata": {},
   "source": [
    "#### Check if the scores are correctly generated\n",
    "Attempts should be >= top or zone!"
   ]
  },
  {
   "cell_type": "code",
   "execution_count": 12,
   "id": "a6ee2a41",
   "metadata": {},
   "outputs": [
    {
     "data": {
      "text/plain": [
       "0"
      ]
     },
     "execution_count": 12,
     "metadata": {},
     "output_type": "execute_result"
    }
   ],
   "source": [
    "len(df[df['zone attempts']<df['zone']])"
   ]
  },
  {
   "cell_type": "code",
   "execution_count": 13,
   "id": "939ce053",
   "metadata": {},
   "outputs": [
    {
     "data": {
      "text/plain": [
       "0"
      ]
     },
     "execution_count": 13,
     "metadata": {},
     "output_type": "execute_result"
    }
   ],
   "source": [
    "len(df[df['top attempts']<df['top']])"
   ]
  },
  {
   "cell_type": "markdown",
   "id": "557ce777",
   "metadata": {},
   "source": [
    "Both are zero. The scores are nicely converted."
   ]
  },
  {
   "cell_type": "markdown",
   "id": "089d3ffb",
   "metadata": {},
   "source": [
    "## Part 2: Exploratory Data Analytics\n",
    "#### Check list\n",
    "* Passing rate (Pass Qual/total)\n",
    "* Correlation to qualification result\n",
    "* Distribution of each feature\n",
    "* Presence of outliers: Deal with it at feature engineering step\n",
    "\n",
    "#### Features\n",
    "* Top score\n",
    "* Zone score\n",
    "* Top attempts\n",
    "* Zone attempts"
   ]
  },
  {
   "attachments": {},
   "cell_type": "markdown",
   "id": "ae072952",
   "metadata": {},
   "source": [
    "### 2.1. Passing Rate\n",
    "About 25% of players pass the qualification"
   ]
  },
  {
   "cell_type": "code",
   "execution_count": 14,
   "id": "fcd2ef30",
   "metadata": {},
   "outputs": [],
   "source": [
    "df_qual = df[['top','zone','top attempts','zone attempts','Pass Qual']]"
   ]
  },
  {
   "cell_type": "code",
   "execution_count": 15,
   "id": "1d263b2f",
   "metadata": {},
   "outputs": [
    {
     "name": "stdout",
     "output_type": "stream",
     "text": [
      "<class 'pandas.core.frame.DataFrame'>\n",
      "Int64Index: 3197 entries, 282 to 6468\n",
      "Data columns (total 5 columns):\n",
      " #   Column         Non-Null Count  Dtype\n",
      "---  ------         --------------  -----\n",
      " 0   top            3197 non-null   int64\n",
      " 1   zone           3197 non-null   int64\n",
      " 2   top attempts   3197 non-null   int64\n",
      " 3   zone attempts  3197 non-null   int64\n",
      " 4   Pass Qual      3197 non-null   int64\n",
      "dtypes: int64(5)\n",
      "memory usage: 149.9 KB\n"
     ]
    }
   ],
   "source": [
    "df_qual.info()"
   ]
  },
  {
   "cell_type": "markdown",
   "id": "e69d9405",
   "metadata": {},
   "source": [
    "3200 Entries, No missing data"
   ]
  },
  {
   "cell_type": "code",
   "execution_count": 16,
   "id": "e2a81c9f",
   "metadata": {},
   "outputs": [
    {
     "data": {
      "image/png": "[encoded data removed]",
      "text/plain": [
       "<Figure size 432x288 with 1 Axes>"
      ]
     },
     "metadata": {
      "needs_background": "light"
     },
     "output_type": "display_data"
    }
   ],
   "source": [
    "sns.countplot(x='Pass Qual', data=df_qual)\n",
    "plt.title(\"Qualification Passing Rate\")\n",
    "for i in [0,1]:\n",
    "    rate = 100 * df_qual['Pass Qual'].value_counts()[i]/len(df_qual)\n",
    "    plt.text(i,df_qual['Pass Qual'].value_counts()[i],f\"{rate:.2f} %\",\n",
    "             va='bottom', ha='center', weight='bold');"
   ]
  },
  {
   "attachments": {},
   "cell_type": "markdown",
   "id": "50f9d996",
   "metadata": {},
   "source": [
    "### Part 2.2. Correlations: all features to qual result\n",
    "* Top > Zone > Top attempts >> Zone attempts: as expected"
   ]
  },
  {
   "cell_type": "code",
   "execution_count": 17,
   "id": "0edfebe1",
   "metadata": {},
   "outputs": [
    {
     "data": {
      "text/plain": [
       "zone attempts    0.155779\n",
       "top attempts     0.474940\n",
       "zone             0.523052\n",
       "top              0.657668\n",
       "Name: Pass Qual, dtype: float64"
      ]
     },
     "execution_count": 17,
     "metadata": {},
     "output_type": "execute_result"
    }
   ],
   "source": [
    "df_qual.corr()['Pass Qual'].sort_values().iloc[:-1]"
   ]
  },
  {
   "cell_type": "code",
   "execution_count": 18,
   "id": "3bd54c8c",
   "metadata": {},
   "outputs": [
    {
     "data": {
      "text/plain": [
       "<AxesSubplot:>"
      ]
     },
     "execution_count": 18,
     "metadata": {},
     "output_type": "execute_result"
    },
    {
     "data": {
      "image/png": "[encoded data removed]",
      "text/plain": [
       "<Figure size 432x288 with 1 Axes>"
      ]
     },
     "metadata": {
      "needs_background": "light"
     },
     "output_type": "display_data"
    }
   ],
   "source": [
    "sns.barplot(x=df_qual.corr()['Pass Qual'].sort_values().iloc[:-1].index, y=df_qual.corr()['Pass Qual'].sort_values().iloc[:-1].values)"
   ]
  },
  {
   "cell_type": "code",
   "execution_count": 19,
   "id": "c95f6eda",
   "metadata": {},
   "outputs": [
    {
     "data": {
      "text/plain": [
       "<AxesSubplot:>"
      ]
     },
     "execution_count": 19,
     "metadata": {},
     "output_type": "execute_result"
    },
    {
     "data": {
      "image/png": "[encoded data removed]",
      "text/plain": [
       "<Figure size 432x288 with 2 Axes>"
      ]
     },
     "metadata": {
      "needs_background": "light"
     },
     "output_type": "display_data"
    }
   ],
   "source": [
    "sns.heatmap(data=df_qual.corr(),annot=True)"
   ]
  },
  {
   "cell_type": "markdown",
   "id": "41465eb3",
   "metadata": {},
   "source": [
    "### Part 2.3. Top score distribution and outliers\n",
    "* High top scores lead to passing qual and lower top score lead to failing qual (positively correlated)\n",
    "* Overall distribution has no outliers\n",
    "* Outliers in passing qual: Some lucky players (62) passed qualification with 0 or 1 top scores"
   ]
  },
  {
   "cell_type": "code",
   "execution_count": 20,
   "id": "f35a3050",
   "metadata": {
    "scrolled": true
   },
   "outputs": [
    {
     "data": {
      "text/plain": [
       "<AxesSubplot:xlabel='top', ylabel='count'>"
      ]
     },
     "execution_count": 20,
     "metadata": {},
     "output_type": "execute_result"
    },
    {
     "data": {
      "image/png": "[encoded data removed]",
      "text/plain": [
       "<Figure size 432x288 with 1 Axes>"
      ]
     },
     "metadata": {
      "needs_background": "light"
     },
     "output_type": "display_data"
    }
   ],
   "source": [
    "sns.countplot(x='top', data=df_qual, hue='Pass Qual')"
   ]
  },
  {
   "cell_type": "code",
   "execution_count": 21,
   "id": "0701c20d",
   "metadata": {},
   "outputs": [],
   "source": [
    "def box_plots(df, feature):\n",
    "    \"\"\"\n",
    "    Generates two box plots:\n",
    "    1. Distribution of the feature\n",
    "    2. Distribution of the feature grouped by Qualification result\n",
    "    \n",
    "    Print the number of Outliers:\n",
    "    \"\"\"\n",
    "    iqr = df[feature].describe()[\"75%\"] - df[feature].describe()[\"25%\"]\n",
    "    lower_lim = df[feature].describe()[\"25%\"] - 1.5*iqr\n",
    "    upper_lim = df[feature].describe()[\"75%\"] + 1.5*iqr\n",
    "    \n",
    "    plt.figure()\n",
    "    sns.boxplot(y=feature, data=df)\n",
    "    plt.title(f'Overall {feature} Distribution')\n",
    "    print(f'Upper Outliers: {len(df[df[feature]>upper_lim])}')\n",
    "    print(f'Lower Outliers: {len(df[df[feature]<lower_lim])}')\n",
    "    \n",
    "    plt.figure()\n",
    "    sns.boxplot(x='Pass Qual', y='top', data=df)\n",
    "    plt.title(f'Grouped {feature} Distribution')"
   ]
  },
  {
   "cell_type": "code",
   "execution_count": 22,
   "id": "fb2bda09",
   "metadata": {},
   "outputs": [
    {
     "name": "stdout",
     "output_type": "stream",
     "text": [
      "Upper Outliers: 0\n",
      "Lower Outliers: 0\n"
     ]
    },
    {
     "data": {
      "image/png": "[encoded data removed]",
      "text/plain": [
       "<Figure size 432x288 with 1 Axes>"
      ]
     },
     "metadata": {
      "needs_background": "light"
     },
     "output_type": "display_data"
    },
    {
     "data": {
      "image/png": "[encoded data removed]",
      "text/plain": [
       "<Figure size 432x288 with 1 Axes>"
      ]
     },
     "metadata": {
      "needs_background": "light"
     },
     "output_type": "display_data"
    }
   ],
   "source": [
    "box_plots(df_qual, 'top')"
   ]
  },
  {
   "cell_type": "code",
   "execution_count": 23,
   "id": "b85e02bf",
   "metadata": {},
   "outputs": [
    {
     "data": {
      "text/plain": [
       "62"
      ]
     },
     "execution_count": 23,
     "metadata": {},
     "output_type": "execute_result"
    }
   ],
   "source": [
    "len(df_qual[(df_qual['Pass Qual']==1)&(df_qual['top']<2)])"
   ]
  },
  {
   "cell_type": "markdown",
   "id": "34fcb60a",
   "metadata": {},
   "source": [
    "### Part 2.4. Top Attempts Distribution and Outliers\n",
    "* Low top attempts -> Failing Qual\n",
    "* Normally distributed for those who pass the qual\n",
    "* 16 outliers"
   ]
  },
  {
   "cell_type": "code",
   "execution_count": 24,
   "id": "c37f536b",
   "metadata": {},
   "outputs": [
    {
     "data": {
      "text/plain": [
       "<AxesSubplot:xlabel='top attempts', ylabel='count'>"
      ]
     },
     "execution_count": 24,
     "metadata": {},
     "output_type": "execute_result"
    },
    {
     "data": {
      "image/png": "[encoded data removed]",
      "text/plain": [
       "<Figure size 432x288 with 1 Axes>"
      ]
     },
     "metadata": {
      "needs_background": "light"
     },
     "output_type": "display_data"
    }
   ],
   "source": [
    "sns.countplot(x='top attempts', hue='Pass Qual', data=df_qual)"
   ]
  },
  {
   "cell_type": "code",
   "execution_count": 25,
   "id": "0ca95533",
   "metadata": {},
   "outputs": [
    {
     "name": "stdout",
     "output_type": "stream",
     "text": [
      "Upper Outliers: 16\n",
      "Lower Outliers: 0\n"
     ]
    },
    {
     "data": {
      "image/png": "[encoded data removed]",
      "text/plain": [
       "<Figure size 432x288 with 1 Axes>"
      ]
     },
     "metadata": {
      "needs_background": "light"
     },
     "output_type": "display_data"
    },
    {
     "data": {
      "image/png": "[encoded data removed]",
      "text/plain": [
       "<Figure size 432x288 with 1 Axes>"
      ]
     },
     "metadata": {
      "needs_background": "light"
     },
     "output_type": "display_data"
    }
   ],
   "source": [
    "box_plots(df_qual,'top attempts')"
   ]
  },
  {
   "cell_type": "markdown",
   "id": "7869d623",
   "metadata": {},
   "source": [
    "### 2.5. Zone Distribution and Outliers\n",
    "* Normally distributed for failing qual\n",
    "* Positively correlated with passing qual\n",
    "* No outlier detected"
   ]
  },
  {
   "cell_type": "code",
   "execution_count": 26,
   "id": "a266900a",
   "metadata": {},
   "outputs": [
    {
     "data": {
      "text/plain": [
       "<AxesSubplot:xlabel='zone', ylabel='count'>"
      ]
     },
     "execution_count": 26,
     "metadata": {},
     "output_type": "execute_result"
    },
    {
     "data": {
      "image/png": "[encoded data removed]",
      "text/plain": [
       "<Figure size 432x288 with 1 Axes>"
      ]
     },
     "metadata": {
      "needs_background": "light"
     },
     "output_type": "display_data"
    }
   ],
   "source": [
    "sns.countplot(x='zone', data=df_qual, hue='Pass Qual')"
   ]
  },
  {
   "cell_type": "code",
   "execution_count": 27,
   "id": "092c795a",
   "metadata": {},
   "outputs": [
    {
     "name": "stdout",
     "output_type": "stream",
     "text": [
      "Upper Outliers: 0\n",
      "Lower Outliers: 0\n"
     ]
    },
    {
     "data": {
      "image/png": "[encoded data removed]",
      "text/plain": [
       "<Figure size 432x288 with 1 Axes>"
      ]
     },
     "metadata": {
      "needs_background": "light"
     },
     "output_type": "display_data"
    },
    {
     "data": {
      "image/png": "[encoded data removed]",
      "text/plain": [
       "<Figure size 432x288 with 1 Axes>"
      ]
     },
     "metadata": {
      "needs_background": "light"
     },
     "output_type": "display_data"
    }
   ],
   "source": [
    "box_plots(df_qual, 'zone')"
   ]
  },
  {
   "cell_type": "markdown",
   "id": "05e0c09f",
   "metadata": {},
   "source": [
    "### 2.6. Zone attempts Distribution and Outliers\n",
    "* Similarly distributed for both categories\n",
    "* 52 Outliers detected"
   ]
  },
  {
   "cell_type": "code",
   "execution_count": 28,
   "id": "218582eb",
   "metadata": {},
   "outputs": [
    {
     "data": {
      "text/plain": [
       "<AxesSubplot:xlabel='zone attempts', ylabel='count'>"
      ]
     },
     "execution_count": 28,
     "metadata": {},
     "output_type": "execute_result"
    },
    {
     "data": {
      "image/png": "[encoded data removed]",
      "text/plain": [
       "<Figure size 432x288 with 1 Axes>"
      ]
     },
     "metadata": {
      "needs_background": "light"
     },
     "output_type": "display_data"
    }
   ],
   "source": [
    "sns.countplot(x='zone attempts', data=df_qual, hue='Pass Qual')"
   ]
  },
  {
   "cell_type": "code",
   "execution_count": 29,
   "id": "0484130b",
   "metadata": {},
   "outputs": [
    {
     "name": "stdout",
     "output_type": "stream",
     "text": [
      "Upper Outliers: 52\n",
      "Lower Outliers: 0\n"
     ]
    },
    {
     "data": {
      "image/png": "[encoded data removed]",
      "text/plain": [
       "<Figure size 432x288 with 1 Axes>"
      ]
     },
     "metadata": {
      "needs_background": "light"
     },
     "output_type": "display_data"
    },
    {
     "data": {
      "image/png": "[encoded data removed]",
      "text/plain": [
       "<Figure size 432x288 with 1 Axes>"
      ]
     },
     "metadata": {
      "needs_background": "light"
     },
     "output_type": "display_data"
    }
   ],
   "source": [
    "box_plots(df_qual, 'zone attempts')"
   ]
  },
  {
   "cell_type": "markdown",
   "id": "b06becb9",
   "metadata": {},
   "source": [
    "## EDA Conclusion\n",
    "* Outliers from passing qual consistently detected: There are some players who passed qualification with 0 and 1 top scores.\n",
    "* Overall features are positively correlated with passing qualification."
   ]
  },
  {
   "cell_type": "markdown",
   "id": "2e7450a6",
   "metadata": {},
   "source": [
    "## Part 3. Feature Engineering\n",
    "\n",
    "* Remove those who passed qualification with 0 and 1 top scores\n",
    "* Remove outliers detected from EDA\n",
    "* Other features to consider: top attempts - top and zone attempts - zone might also be relevant. Check this possibility."
   ]
  },
  {
   "cell_type": "markdown",
   "id": "614863ae",
   "metadata": {},
   "source": [
    "### Part 3.1. Remove Qualifiers with 0 and 1 top scores"
   ]
  },
  {
   "cell_type": "code",
   "execution_count": 30,
   "id": "ef05e74c",
   "metadata": {},
   "outputs": [],
   "source": [
    "df_qual = df_qual[df_qual['top']>1]"
   ]
  },
  {
   "cell_type": "code",
   "execution_count": 31,
   "id": "e2cf48fe",
   "metadata": {},
   "outputs": [
    {
     "name": "stdout",
     "output_type": "stream",
     "text": [
      "Upper Outliers: 0\n",
      "Lower Outliers: 0\n"
     ]
    },
    {
     "data": {
      "image/png": "[encoded data removed]",
      "text/plain": [
       "<Figure size 432x288 with 1 Axes>"
      ]
     },
     "metadata": {
      "needs_background": "light"
     },
     "output_type": "display_data"
    },
    {
     "data": {
      "image/png": "[encoded data removed]",
      "text/plain": [
       "<Figure size 432x288 with 1 Axes>"
      ]
     },
     "metadata": {
      "needs_background": "light"
     },
     "output_type": "display_data"
    }
   ],
   "source": [
    "box_plots(df_qual,'top')"
   ]
  },
  {
   "cell_type": "markdown",
   "id": "7aa936c5",
   "metadata": {},
   "source": [
    "### Part 3.2. Remove Outliers from box plots\n",
    "* Make a new dataframe: df_engineered\n",
    "* Avoid affecting other feature's statistics"
   ]
  },
  {
   "cell_type": "code",
   "execution_count": 32,
   "id": "cd4fd218",
   "metadata": {},
   "outputs": [],
   "source": [
    "df_engineered = df_qual.copy()"
   ]
  },
  {
   "cell_type": "code",
   "execution_count": 33,
   "id": "03c7c384",
   "metadata": {},
   "outputs": [],
   "source": [
    "for col in df_qual.columns[:-1]:\n",
    "    iqr = df_qual[col].describe()[\"75%\"] - df_qual[col].describe()[\"25%\"]\n",
    "    lower_lim = df_qual[col].describe()[\"25%\"] - 1.5*iqr\n",
    "    upper_lim = df_qual[col].describe()[\"75%\"] + 1.5*iqr\n",
    "    \n",
    "    df_engineered=df_qual[(df_qual[col]<upper_lim)&(df_qual[col]>lower_lim)]\n",
    "    \n",
    "df_engineered = df_engineered.dropna(axis=0)"
   ]
  },
  {
   "cell_type": "code",
   "execution_count": 34,
   "id": "78c1e1d0",
   "metadata": {},
   "outputs": [
    {
     "data": {
      "text/plain": [
       "0.9828382838283828"
      ]
     },
     "execution_count": 34,
     "metadata": {},
     "output_type": "execute_result"
    }
   ],
   "source": [
    "len(df_engineered)/len(df_qual)    # Dropped about 2% "
   ]
  },
  {
   "cell_type": "code",
   "execution_count": 35,
   "id": "b67a0c19",
   "metadata": {},
   "outputs": [
    {
     "data": {
      "text/html": [
       "<div>\n",
       "<style scoped>\n",
       "    .dataframe tbody tr th:only-of-type {\n",
       "        vertical-align: middle;\n",
       "    }\n",
       "\n",
       "    .dataframe tbody tr th {\n",
       "        vertical-align: top;\n",
       "    }\n",
       "\n",
       "    .dataframe thead th {\n",
       "        text-align: right;\n",
       "    }\n",
       "</style>\n",
       "<table border=\"1\" class=\"dataframe\">\n",
       "  <thead>\n",
       "    <tr style=\"text-align: right;\">\n",
       "      <th></th>\n",
       "      <th>top</th>\n",
       "      <th>zone</th>\n",
       "      <th>top attempts</th>\n",
       "      <th>zone attempts</th>\n",
       "      <th>Pass Qual</th>\n",
       "    </tr>\n",
       "  </thead>\n",
       "  <tbody>\n",
       "    <tr>\n",
       "      <th>282</th>\n",
       "      <td>3</td>\n",
       "      <td>4</td>\n",
       "      <td>6</td>\n",
       "      <td>8</td>\n",
       "      <td>1</td>\n",
       "    </tr>\n",
       "    <tr>\n",
       "      <th>283</th>\n",
       "      <td>5</td>\n",
       "      <td>5</td>\n",
       "      <td>11</td>\n",
       "      <td>8</td>\n",
       "      <td>1</td>\n",
       "    </tr>\n",
       "    <tr>\n",
       "      <th>284</th>\n",
       "      <td>5</td>\n",
       "      <td>5</td>\n",
       "      <td>15</td>\n",
       "      <td>13</td>\n",
       "      <td>1</td>\n",
       "    </tr>\n",
       "    <tr>\n",
       "      <th>285</th>\n",
       "      <td>4</td>\n",
       "      <td>4</td>\n",
       "      <td>8</td>\n",
       "      <td>4</td>\n",
       "      <td>1</td>\n",
       "    </tr>\n",
       "    <tr>\n",
       "      <th>286</th>\n",
       "      <td>2</td>\n",
       "      <td>5</td>\n",
       "      <td>4</td>\n",
       "      <td>10</td>\n",
       "      <td>1</td>\n",
       "    </tr>\n",
       "  </tbody>\n",
       "</table>\n",
       "</div>"
      ],
      "text/plain": [
       "     top  zone  top attempts  zone attempts  Pass Qual\n",
       "282    3     4             6              8          1\n",
       "283    5     5            11              8          1\n",
       "284    5     5            15             13          1\n",
       "285    4     4             8              4          1\n",
       "286    2     5             4             10          1"
      ]
     },
     "execution_count": 35,
     "metadata": {},
     "output_type": "execute_result"
    }
   ],
   "source": [
    "df_engineered.head()"
   ]
  },
  {
   "cell_type": "markdown",
   "id": "d7bb8760",
   "metadata": {},
   "source": [
    "### Part 3.3. Introducing new features Attempt - Score"
   ]
  },
  {
   "cell_type": "code",
   "execution_count": 36,
   "id": "a1b7dec0",
   "metadata": {},
   "outputs": [],
   "source": [
    "df_engineered['attempts-top'] = df_engineered['top attempts'] - df_engineered['top']\n",
    "df_engineered['attempts-zone'] = df_engineered['zone attempts'] - df_engineered['zone']"
   ]
  },
  {
   "cell_type": "code",
   "execution_count": 37,
   "id": "e01a31d7",
   "metadata": {},
   "outputs": [
    {
     "data": {
      "text/plain": [
       "attempts-zone   -0.120948\n",
       "zone attempts   -0.011325\n",
       "attempts-top     0.001242\n",
       "top attempts     0.168610\n",
       "zone             0.441873\n",
       "top              0.546415\n",
       "Name: Pass Qual, dtype: float64"
      ]
     },
     "execution_count": 37,
     "metadata": {},
     "output_type": "execute_result"
    }
   ],
   "source": [
    "df_engineered.corr()['Pass Qual'].sort_values().iloc[:-1]"
   ]
  },
  {
   "cell_type": "code",
   "execution_count": 38,
   "id": "66dd2798",
   "metadata": {},
   "outputs": [
    {
     "data": {
      "image/png": "[encoded data removed]",
      "text/plain": [
       "<Figure size 432x288 with 1 Axes>"
      ]
     },
     "metadata": {
      "needs_background": "light"
     },
     "output_type": "display_data"
    }
   ],
   "source": [
    "sns.barplot(x=df_engineered.corr()['Pass Qual'].sort_values().iloc[:-1].index,\n",
    "            y=df_engineered.corr()['Pass Qual'].sort_values().iloc[:-1].values)\n",
    "plt.xticks(rotation=90);"
   ]
  },
  {
   "cell_type": "markdown",
   "id": "a0c7d223",
   "metadata": {},
   "source": [
    "## Feature Engineering Conclusion\n",
    "* About 2% of entriees were removed\n",
    "* Attempt - score: (top) no significance (zone) negatively correlated"
   ]
  },
  {
   "cell_type": "markdown",
   "id": "08ecfd99",
   "metadata": {},
   "source": [
    "# Model Selection\n",
    "\n",
    "Throughout the feature engineering, I figured out the top and zone socres are somewhat linearly correlated to passing qual. My intuition says linear logistic regression would work fine. Let's make logistic, tree-based, and SVM based classification models and evalueate them.\n",
    "\n",
    "## Logistic Regression"
   ]
  },
  {
   "cell_type": "code",
   "execution_count": 39,
   "id": "ffa80cf5",
   "metadata": {},
   "outputs": [],
   "source": [
    "from sklearn.model_selection import train_test_split\n",
    "X = df_engineered.drop('Pass Qual',axis=1)\n",
    "y = df_engineered['Pass Qual']"
   ]
  },
  {
   "cell_type": "code",
   "execution_count": 40,
   "id": "fce6f59d",
   "metadata": {},
   "outputs": [],
   "source": [
    "X_train, X_test, y_train, y_test = train_test_split(X, y, test_size=0.15)"
   ]
  },
  {
   "cell_type": "markdown",
   "id": "1ce9fd50",
   "metadata": {},
   "source": [
    "#### Import Libraries"
   ]
  },
  {
   "cell_type": "code",
   "execution_count": 41,
   "id": "46064557",
   "metadata": {},
   "outputs": [],
   "source": [
    "from sklearn.preprocessing import StandardScaler\n",
    "from sklearn.linear_model import LogisticRegression\n",
    "from sklearn.model_selection import GridSearchCV\n",
    "from sklearn.pipeline import Pipeline"
   ]
  },
  {
   "cell_type": "code",
   "execution_count": 42,
   "id": "f624f8fb",
   "metadata": {},
   "outputs": [],
   "source": [
    "scaler=StandardScaler()\n",
    "log_model=LogisticRegression(penalty='elasticnet', solver='saga', max_iter=3000, class_weight='balanced')\n",
    "# saga is the only solver available for elasticnet\n",
    "# Default max_iter: 100, seems a bit small"
   ]
  },
  {
   "cell_type": "code",
   "execution_count": 43,
   "id": "076f4944",
   "metadata": {},
   "outputs": [],
   "source": [
    "# Construct Pipeline: Standard scale and logistic model with elastic net regularization\n",
    "operations_logistic = [('scaler',scaler),('log_model',log_model)]\n",
    "pipe_logistic = Pipeline(operations_logistic)"
   ]
  },
  {
   "cell_type": "markdown",
   "id": "cec4a697",
   "metadata": {},
   "source": [
    "#### Let's start with logistic regression with elasticnet regularization "
   ]
  },
  {
   "cell_type": "code",
   "execution_count": 44,
   "id": "70b88cb7",
   "metadata": {},
   "outputs": [],
   "source": [
    "param_grid = {'log_model__C':np.logspace(-2,2,20),'log_model__l1_ratio':np.linspace(0,1,20)}\n",
    "cv_logistic = GridSearchCV(pipe_logistic, param_grid=param_grid, cv=5, scoring='accuracy')"
   ]
  },
  {
   "cell_type": "code",
   "execution_count": 45,
   "id": "ca244822",
   "metadata": {},
   "outputs": [
    {
     "data": {
      "text/plain": [
       "GridSearchCV(cv=5,\n",
       "             estimator=Pipeline(steps=[('scaler', StandardScaler()),\n",
       "                                       ('log_model',\n",
       "                                        LogisticRegression(class_weight='balanced',\n",
       "                                                           max_iter=3000,\n",
       "                                                           penalty='elasticnet',\n",
       "                                                           solver='saga'))]),\n",
       "             param_grid={'log_model__C': array([1.00000000e-02, 1.62377674e-02, 2.63665090e-02, 4.28133240e-02,\n",
       "       6.95192796e-02, 1.12883789e-01, 1.83298071e-01, 2.97635144e-01,\n",
       "       4.83293024e-01,...\n",
       "       3.35981829e+00, 5.45559478e+00, 8.85866790e+00, 1.43844989e+01,\n",
       "       2.33572147e+01, 3.79269019e+01, 6.15848211e+01, 1.00000000e+02]),\n",
       "                         'log_model__l1_ratio': array([0.        , 0.05263158, 0.10526316, 0.15789474, 0.21052632,\n",
       "       0.26315789, 0.31578947, 0.36842105, 0.42105263, 0.47368421,\n",
       "       0.52631579, 0.57894737, 0.63157895, 0.68421053, 0.73684211,\n",
       "       0.78947368, 0.84210526, 0.89473684, 0.94736842, 1.        ])},\n",
       "             scoring='accuracy')"
      ]
     },
     "execution_count": 45,
     "metadata": {},
     "output_type": "execute_result"
    }
   ],
   "source": [
    "cv_logistic.fit(X_train,y_train)"
   ]
  },
  {
   "cell_type": "code",
   "execution_count": 46,
   "id": "a0b00941",
   "metadata": {},
   "outputs": [
    {
     "data": {
      "text/plain": [
       "Pipeline(steps=[('scaler', StandardScaler()),\n",
       "                ('log_model',\n",
       "                 LogisticRegression(C=0.01, class_weight='balanced',\n",
       "                                    l1_ratio=0.05263157894736842, max_iter=3000,\n",
       "                                    penalty='elasticnet', solver='saga'))])"
      ]
     },
     "execution_count": 46,
     "metadata": {},
     "output_type": "execute_result"
    }
   ],
   "source": [
    "cv_logistic.best_estimator_"
   ]
  },
  {
   "cell_type": "markdown",
   "id": "db8e8113",
   "metadata": {},
   "source": [
    "### Evaluate the logistic regression model"
   ]
  },
  {
   "cell_type": "code",
   "execution_count": 47,
   "id": "ce416895",
   "metadata": {},
   "outputs": [],
   "source": [
    "from sklearn.metrics import confusion_matrix, classification_report, ConfusionMatrixDisplay"
   ]
  },
  {
   "cell_type": "code",
   "execution_count": 48,
   "id": "3392998f",
   "metadata": {},
   "outputs": [],
   "source": [
    "y_pred_logistic = cv_logistic.predict(X_test)"
   ]
  },
  {
   "cell_type": "code",
   "execution_count": 49,
   "id": "02f89534",
   "metadata": {},
   "outputs": [
    {
     "name": "stdout",
     "output_type": "stream",
     "text": [
      "              precision    recall  f1-score   support\n",
      "\n",
      "           0       0.78      0.82      0.80       118\n",
      "           1       0.79      0.74      0.76       106\n",
      "\n",
      "    accuracy                           0.78       224\n",
      "   macro avg       0.78      0.78      0.78       224\n",
      "weighted avg       0.78      0.78      0.78       224\n",
      "\n"
     ]
    },
    {
     "data": {
      "text/plain": [
       "<sklearn.metrics._plot.confusion_matrix.ConfusionMatrixDisplay at 0x1b047142fa0>"
      ]
     },
     "execution_count": 49,
     "metadata": {},
     "output_type": "execute_result"
    },
    {
     "data": {
      "image/png": "[encoded data removed]",
      "text/plain": [
       "<Figure size 432x288 with 2 Axes>"
      ]
     },
     "metadata": {
      "needs_background": "light"
     },
     "output_type": "display_data"
    }
   ],
   "source": [
    "print(classification_report(y_test,y_pred_logistic))\n",
    "ConfusionMatrixDisplay.from_estimator(cv_logistic,X_test,y_test,cmap='Blues')"
   ]
  },
  {
   "cell_type": "markdown",
   "id": "0ebe9bea",
   "metadata": {},
   "source": [
    "### Good at predicting \"Not Passing Qual\" but not good at predicting \"Passing Qual\"\n",
    "#### What does this mean regarding the model performance?\n",
    "\n",
    "The dataset is a bit imbalanced: There are a lot more Failed cases than the Passing cases. The model is trained with accuracy and prediction can be biased (or weighted) toward \"a player will not pass the Qual\"."
   ]
  },
  {
   "cell_type": "markdown",
   "id": "dc1fbc03",
   "metadata": {},
   "source": [
    "## Random Forest model\n",
    "Random Forest model because\n",
    "\n",
    "1. No need to worry about overfitting\n",
    "\n",
    "2. Generally better performance than single tree method"
   ]
  },
  {
   "cell_type": "code",
   "execution_count": 50,
   "id": "0799807c",
   "metadata": {},
   "outputs": [],
   "source": [
    "from sklearn.ensemble import RandomForestClassifier"
   ]
  },
  {
   "cell_type": "code",
   "execution_count": 51,
   "id": "5558787d",
   "metadata": {},
   "outputs": [],
   "source": [
    "rfc = RandomForestClassifier(class_weight='balanced')"
   ]
  },
  {
   "cell_type": "markdown",
   "id": "fb8d2af6",
   "metadata": {},
   "source": [
    "We don't need to scale the features because Tree based method only use one feature in a node."
   ]
  },
  {
   "cell_type": "code",
   "execution_count": 52,
   "id": "9fab7a9a",
   "metadata": {},
   "outputs": [
    {
     "data": {
      "text/plain": [
       "RandomForestClassifier(class_weight='balanced')"
      ]
     },
     "execution_count": 52,
     "metadata": {},
     "output_type": "execute_result"
    }
   ],
   "source": [
    "rfc.fit(X_train,y_train)"
   ]
  },
  {
   "cell_type": "code",
   "execution_count": 53,
   "id": "1b4f8a76",
   "metadata": {},
   "outputs": [],
   "source": [
    "y_pred_forest = rfc.predict(X_test)"
   ]
  },
  {
   "cell_type": "code",
   "execution_count": 54,
   "id": "6a345434",
   "metadata": {},
   "outputs": [
    {
     "name": "stdout",
     "output_type": "stream",
     "text": [
      "Index(['top', 'zone', 'top attempts', 'zone attempts', 'attempts-top',\n",
      "       'attempts-zone'],\n",
      "      dtype='object')\n",
      "[0.27189448 0.15642214 0.14272411 0.14481955 0.14050572 0.143634  ]\n"
     ]
    }
   ],
   "source": [
    "print(X_train.columns)\n",
    "print(rfc.feature_importances_)"
   ]
  },
  {
   "cell_type": "markdown",
   "id": "9aa9b29e",
   "metadata": {},
   "source": [
    "The forest model evaluate the importance: Top > Top Attempts > Zone Attempts > Zone: This is quite counter-intuitive!\n",
    "\n",
    "### Evaluate the Forest Model\n",
    "The forest model is worse in predicting both Passing Qual and Failing Qual than the logistic regression model. Let's try SVM-Classifier."
   ]
  },
  {
   "cell_type": "code",
   "execution_count": 55,
   "id": "ee9284fe",
   "metadata": {},
   "outputs": [
    {
     "name": "stdout",
     "output_type": "stream",
     "text": [
      "              precision    recall  f1-score   support\n",
      "\n",
      "           0       0.73      0.72      0.73       118\n",
      "           1       0.69      0.71      0.70       106\n",
      "\n",
      "    accuracy                           0.71       224\n",
      "   macro avg       0.71      0.71      0.71       224\n",
      "weighted avg       0.71      0.71      0.71       224\n",
      "\n"
     ]
    },
    {
     "data": {
      "text/plain": [
       "<sklearn.metrics._plot.confusion_matrix.ConfusionMatrixDisplay at 0x1b044d10820>"
      ]
     },
     "execution_count": 55,
     "metadata": {},
     "output_type": "execute_result"
    },
    {
     "data": {
      "image/png": "[encoded data removed]",
      "text/plain": [
       "<Figure size 432x288 with 2 Axes>"
      ]
     },
     "metadata": {
      "needs_background": "light"
     },
     "output_type": "display_data"
    }
   ],
   "source": [
    "print(classification_report(y_test,y_pred_forest))\n",
    "ConfusionMatrixDisplay.from_estimator(rfc,X_test,y_test,cmap='Reds')"
   ]
  },
  {
   "cell_type": "markdown",
   "id": "d804c46b",
   "metadata": {},
   "source": [
    "## Support Vector Machine based model: SVC"
   ]
  },
  {
   "cell_type": "code",
   "execution_count": 56,
   "id": "07b4d205",
   "metadata": {},
   "outputs": [],
   "source": [
    "from sklearn.svm import SVC"
   ]
  },
  {
   "cell_type": "code",
   "execution_count": 57,
   "id": "ee02aa1c",
   "metadata": {},
   "outputs": [],
   "source": [
    "svc=SVC(class_weight='balanced') # Gridsearch 'C', 'gamma'\n",
    "operation_svc = [('scaler',scaler),('svc',svc)]\n",
    "pipe_svc = Pipeline(operation_svc)\n",
    "\n",
    "\n",
    "param_grid={'svc__C':np.logspace(-2,2,20),'svc__gamma':['scale','auto']}\n",
    "grid_svc = GridSearchCV(pipe_svc, param_grid, scoring='accuracy')"
   ]
  },
  {
   "cell_type": "code",
   "execution_count": 58,
   "id": "ca086b3a",
   "metadata": {},
   "outputs": [
    {
     "data": {
      "text/plain": [
       "GridSearchCV(estimator=Pipeline(steps=[('scaler', StandardScaler()),\n",
       "                                       ('svc', SVC(class_weight='balanced'))]),\n",
       "             param_grid={'svc__C': array([1.00000000e-02, 1.62377674e-02, 2.63665090e-02, 4.28133240e-02,\n",
       "       6.95192796e-02, 1.12883789e-01, 1.83298071e-01, 2.97635144e-01,\n",
       "       4.83293024e-01, 7.84759970e-01, 1.27427499e+00, 2.06913808e+00,\n",
       "       3.35981829e+00, 5.45559478e+00, 8.85866790e+00, 1.43844989e+01,\n",
       "       2.33572147e+01, 3.79269019e+01, 6.15848211e+01, 1.00000000e+02]),\n",
       "                         'svc__gamma': ['scale', 'auto']},\n",
       "             scoring='accuracy')"
      ]
     },
     "execution_count": 58,
     "metadata": {},
     "output_type": "execute_result"
    }
   ],
   "source": [
    "grid_svc.fit(X_train,y_train)"
   ]
  },
  {
   "cell_type": "code",
   "execution_count": 59,
   "id": "55f2dfd8",
   "metadata": {},
   "outputs": [
    {
     "data": {
      "text/plain": [
       "Pipeline(steps=[('scaler', StandardScaler()),\n",
       "                ('svc', SVC(C=0.11288378916846889, class_weight='balanced'))])"
      ]
     },
     "execution_count": 59,
     "metadata": {},
     "output_type": "execute_result"
    }
   ],
   "source": [
    "grid_svc.best_estimator_"
   ]
  },
  {
   "cell_type": "code",
   "execution_count": 60,
   "id": "cf1e956c",
   "metadata": {},
   "outputs": [
    {
     "data": {
      "text/plain": [
       "{'svc__C': 0.11288378916846889, 'svc__gamma': 'scale'}"
      ]
     },
     "execution_count": 60,
     "metadata": {},
     "output_type": "execute_result"
    }
   ],
   "source": [
    "grid_svc.best_params_"
   ]
  },
  {
   "cell_type": "code",
   "execution_count": 61,
   "id": "683027b3",
   "metadata": {},
   "outputs": [
    {
     "name": "stdout",
     "output_type": "stream",
     "text": [
      "              precision    recall  f1-score   support\n",
      "\n",
      "           0       0.76      0.83      0.79       118\n",
      "           1       0.79      0.71      0.75       106\n",
      "\n",
      "    accuracy                           0.77       224\n",
      "   macro avg       0.77      0.77      0.77       224\n",
      "weighted avg       0.77      0.77      0.77       224\n",
      "\n"
     ]
    },
    {
     "data": {
      "text/plain": [
       "<sklearn.metrics._plot.confusion_matrix.ConfusionMatrixDisplay at 0x1b0453ecfd0>"
      ]
     },
     "execution_count": 61,
     "metadata": {},
     "output_type": "execute_result"
    },
    {
     "data": {
      "image/png": "[encoded data removed]",
      "text/plain": [
       "<Figure size 432x288 with 2 Axes>"
      ]
     },
     "metadata": {
      "needs_background": "light"
     },
     "output_type": "display_data"
    }
   ],
   "source": [
    "y_pred_svc = grid_svc.predict(X_test)\n",
    "print(classification_report(y_test,y_pred_svc))\n",
    "ConfusionMatrixDisplay.from_estimator(grid_svc,X_test,y_test,cmap='Greens')"
   ]
  },
  {
   "cell_type": "markdown",
   "id": "f959b19d",
   "metadata": {},
   "source": [
    "# Model Evaluation and Selection"
   ]
  },
  {
   "cell_type": "code",
   "execution_count": 62,
   "id": "fd3fe87d",
   "metadata": {},
   "outputs": [
    {
     "name": "stdout",
     "output_type": "stream",
     "text": [
      "Logistic Regression Model\n",
      "              precision    recall  f1-score   support\n",
      "\n",
      "           0       0.78      0.82      0.80       118\n",
      "           1       0.79      0.74      0.76       106\n",
      "\n",
      "    accuracy                           0.78       224\n",
      "   macro avg       0.78      0.78      0.78       224\n",
      "weighted avg       0.78      0.78      0.78       224\n",
      "\n",
      "\n",
      "Random Forest Model\n",
      "              precision    recall  f1-score   support\n",
      "\n",
      "           0       0.73      0.72      0.73       118\n",
      "           1       0.69      0.71      0.70       106\n",
      "\n",
      "    accuracy                           0.71       224\n",
      "   macro avg       0.71      0.71      0.71       224\n",
      "weighted avg       0.71      0.71      0.71       224\n",
      "\n",
      "\n",
      "Support Vector Classifier Model\n",
      "              precision    recall  f1-score   support\n",
      "\n",
      "           0       0.76      0.83      0.79       118\n",
      "           1       0.79      0.71      0.75       106\n",
      "\n",
      "    accuracy                           0.77       224\n",
      "   macro avg       0.77      0.77      0.77       224\n",
      "weighted avg       0.77      0.77      0.77       224\n",
      "\n"
     ]
    },
    {
     "data": {
      "text/plain": [
       "<sklearn.metrics._plot.confusion_matrix.ConfusionMatrixDisplay at 0x1b04734bb20>"
      ]
     },
     "execution_count": 62,
     "metadata": {},
     "output_type": "execute_result"
    },
    {
     "data": {
      "image/png": "[encoded data removed]",
      "text/plain": [
       "<Figure size 432x288 with 2 Axes>"
      ]
     },
     "metadata": {
      "needs_background": "light"
     },
     "output_type": "display_data"
    },
    {
     "data": {
      "image/png": "[encoded data removed]",
      "text/plain": [
       "<Figure size 432x288 with 2 Axes>"
      ]
     },
     "metadata": {
      "needs_background": "light"
     },
     "output_type": "display_data"
    },
    {
     "data": {
      "image/png": "[encoded data removed]",
      "text/plain": [
       "<Figure size 432x288 with 2 Axes>"
      ]
     },
     "metadata": {
      "needs_background": "light"
     },
     "output_type": "display_data"
    }
   ],
   "source": [
    "print(\"Logistic Regression Model\")\n",
    "print(classification_report(y_test,y_pred_logistic))\n",
    "ConfusionMatrixDisplay.from_estimator(cv_logistic,X_test,y_test,cmap='Blues')\n",
    "print('\\nRandom Forest Model')\n",
    "print(classification_report(y_test,y_pred_forest))\n",
    "ConfusionMatrixDisplay.from_estimator(rfc,X_test,y_test,cmap='Reds')\n",
    "print('\\nSupport Vector Classifier Model')\n",
    "print(classification_report(y_test,y_pred_svc))\n",
    "ConfusionMatrixDisplay.from_estimator(grid_svc,X_test,y_test,cmap='Greens')"
   ]
  },
  {
   "cell_type": "code",
   "execution_count": 91,
   "id": "d76e3024",
   "metadata": {},
   "outputs": [
    {
     "name": "stdout",
     "output_type": "stream",
     "text": [
      "(1, 6)\n",
      "(6,)\n"
     ]
    },
    {
     "data": {
      "text/html": [
       "<div>\n",
       "<style scoped>\n",
       "    .dataframe tbody tr th:only-of-type {\n",
       "        vertical-align: middle;\n",
       "    }\n",
       "\n",
       "    .dataframe tbody tr th {\n",
       "        vertical-align: top;\n",
       "    }\n",
       "\n",
       "    .dataframe thead th {\n",
       "        text-align: right;\n",
       "    }\n",
       "</style>\n",
       "<table border=\"1\" class=\"dataframe\">\n",
       "  <thead>\n",
       "    <tr style=\"text-align: right;\">\n",
       "      <th></th>\n",
       "      <th>Importance</th>\n",
       "    </tr>\n",
       "  </thead>\n",
       "  <tbody>\n",
       "    <tr>\n",
       "      <th>top</th>\n",
       "      <td>0.695939</td>\n",
       "    </tr>\n",
       "    <tr>\n",
       "      <th>zone</th>\n",
       "      <td>0.413409</td>\n",
       "    </tr>\n",
       "    <tr>\n",
       "      <th>top attempts</th>\n",
       "      <td>0.045850</td>\n",
       "    </tr>\n",
       "    <tr>\n",
       "      <th>zone attempts</th>\n",
       "      <td>0.000000</td>\n",
       "    </tr>\n",
       "    <tr>\n",
       "      <th>attempts-zone</th>\n",
       "      <td>-0.068389</td>\n",
       "    </tr>\n",
       "    <tr>\n",
       "      <th>attempts-top</th>\n",
       "      <td>-0.087810</td>\n",
       "    </tr>\n",
       "  </tbody>\n",
       "</table>\n",
       "</div>"
      ],
      "text/plain": [
       "               Importance\n",
       "top              0.695939\n",
       "zone             0.413409\n",
       "top attempts     0.045850\n",
       "zone attempts    0.000000\n",
       "attempts-zone   -0.068389\n",
       "attempts-top    -0.087810"
      ]
     },
     "execution_count": 91,
     "metadata": {},
     "output_type": "execute_result"
    }
   ],
   "source": [
    "# Logistic Regression Feature Importance\n",
    "print(cv_logistic.best_estimator_.named_steps.log_model.coef_.shape);\n",
    "print(X.columns.shape);\n",
    "logistic = pd.DataFrame(data= cv_logistic.best_estimator_.named_steps.log_model.coef_.reshape(-1,), index=X.columns, columns=['Importance']);\n",
    "logistic.sort_values(by='Importance',ascending=False)"
   ]
  },
  {
   "cell_type": "code",
   "execution_count": 90,
   "id": "1fa8c27d",
   "metadata": {},
   "outputs": [
    {
     "data": {
      "text/html": [
       "<div>\n",
       "<style scoped>\n",
       "    .dataframe tbody tr th:only-of-type {\n",
       "        vertical-align: middle;\n",
       "    }\n",
       "\n",
       "    .dataframe tbody tr th {\n",
       "        vertical-align: top;\n",
       "    }\n",
       "\n",
       "    .dataframe thead th {\n",
       "        text-align: right;\n",
       "    }\n",
       "</style>\n",
       "<table border=\"1\" class=\"dataframe\">\n",
       "  <thead>\n",
       "    <tr style=\"text-align: right;\">\n",
       "      <th></th>\n",
       "      <th>Importance</th>\n",
       "    </tr>\n",
       "  </thead>\n",
       "  <tbody>\n",
       "    <tr>\n",
       "      <th>top</th>\n",
       "      <td>0.271894</td>\n",
       "    </tr>\n",
       "    <tr>\n",
       "      <th>zone</th>\n",
       "      <td>0.156422</td>\n",
       "    </tr>\n",
       "    <tr>\n",
       "      <th>zone attempts</th>\n",
       "      <td>0.144820</td>\n",
       "    </tr>\n",
       "    <tr>\n",
       "      <th>attempts-zone</th>\n",
       "      <td>0.143634</td>\n",
       "    </tr>\n",
       "    <tr>\n",
       "      <th>top attempts</th>\n",
       "      <td>0.142724</td>\n",
       "    </tr>\n",
       "    <tr>\n",
       "      <th>attempts-top</th>\n",
       "      <td>0.140506</td>\n",
       "    </tr>\n",
       "  </tbody>\n",
       "</table>\n",
       "</div>"
      ],
      "text/plain": [
       "               Importance\n",
       "top              0.271894\n",
       "zone             0.156422\n",
       "zone attempts    0.144820\n",
       "attempts-zone    0.143634\n",
       "top attempts     0.142724\n",
       "attempts-top     0.140506"
      ]
     },
     "execution_count": 90,
     "metadata": {},
     "output_type": "execute_result"
    }
   ],
   "source": [
    "randomforest = pd.DataFrame(data=rfc.feature_importances_.reshape(-1,), index=X.columns, columns=['Importance'])\n",
    "randomforest.sort_values(by='Importance', ascending=False)"
   ]
  },
  {
   "cell_type": "code",
   "execution_count": 93,
   "id": "50015a7d",
   "metadata": {},
   "outputs": [
    {
     "data": {
      "text/html": [
       "<div>\n",
       "<style scoped>\n",
       "    .dataframe tbody tr th:only-of-type {\n",
       "        vertical-align: middle;\n",
       "    }\n",
       "\n",
       "    .dataframe tbody tr th {\n",
       "        vertical-align: top;\n",
       "    }\n",
       "\n",
       "    .dataframe thead th {\n",
       "        text-align: right;\n",
       "    }\n",
       "</style>\n",
       "<table border=\"1\" class=\"dataframe\">\n",
       "  <thead>\n",
       "    <tr style=\"text-align: right;\">\n",
       "      <th></th>\n",
       "      <th>Importance</th>\n",
       "    </tr>\n",
       "  </thead>\n",
       "  <tbody>\n",
       "    <tr>\n",
       "      <th>top</th>\n",
       "      <td>0.163393</td>\n",
       "    </tr>\n",
       "    <tr>\n",
       "      <th>zone</th>\n",
       "      <td>0.050893</td>\n",
       "    </tr>\n",
       "    <tr>\n",
       "      <th>zone attempts</th>\n",
       "      <td>0.016071</td>\n",
       "    </tr>\n",
       "    <tr>\n",
       "      <th>attempts-zone</th>\n",
       "      <td>0.009821</td>\n",
       "    </tr>\n",
       "    <tr>\n",
       "      <th>attempts-top</th>\n",
       "      <td>0.002679</td>\n",
       "    </tr>\n",
       "    <tr>\n",
       "      <th>top attempts</th>\n",
       "      <td>-0.028571</td>\n",
       "    </tr>\n",
       "  </tbody>\n",
       "</table>\n",
       "</div>"
      ],
      "text/plain": [
       "               Importance\n",
       "top              0.163393\n",
       "zone             0.050893\n",
       "zone attempts    0.016071\n",
       "attempts-zone    0.009821\n",
       "attempts-top     0.002679\n",
       "top attempts    -0.028571"
      ]
     },
     "execution_count": 93,
     "metadata": {},
     "output_type": "execute_result"
    }
   ],
   "source": [
    "from sklearn.inspection import permutation_importance\n",
    "perm_importance = permutation_importance(grid_svc, X_test, y_test)\n",
    "perm_importance.importances_mean\n",
    "supportvector = pd.DataFrame(data=perm_importance.importances_mean.reshape(-1,), index=X.columns, columns=['Importance'])\n",
    "supportvector.sort_values(by='Importance', ascending=False)"
   ]
  },
  {
   "cell_type": "markdown",
   "id": "1a04357e",
   "metadata": {},
   "source": [
    "# Conclusion\n",
    "* Logistic Regression model performed marginally better than Support Vector Classifier and Random Forest. It will predict the results with ~ 80% accuracy.\n",
    "* The \"top\", \"zone\" are the most two stongest features to predict the Qualification results. Top attempts - Top and Zone attempts - Zone are more relavant features than just \"attempts\""
   ]
  },
  {
   "cell_type": "code",
   "execution_count": null,
   "id": "a5ee551f",
   "metadata": {},
   "outputs": [],
   "source": []
  }
 ],
 "metadata": {
  "kernelspec": {
   "display_name": "Python 3 (ipykernel)",
   "language": "python",
   "name": "python3"
  },
  "language_info": {
   "codemirror_mode": {
    "name": "ipython",
    "version": 3
   },
   "file_extension": ".py",
   "mimetype": "text/x-python",
   "name": "python",
   "nbconvert_exporter": "python",
   "pygments_lexer": "ipython3",
   "version": "3.9.12"
  }
 },
 "nbformat": 4,
 "nbformat_minor": 5
}
